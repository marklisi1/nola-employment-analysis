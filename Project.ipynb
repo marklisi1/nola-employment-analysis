{
 "cells": [
  {
   "cell_type": "markdown",
   "metadata": {},
   "source": [
    "[GitHub.io Link](marklisi1.github.io)"
   ]
  },
  {
   "cell_type": "markdown",
   "metadata": {},
   "source": [
    "# Milestone 1\n",
    "<p> Mark Lisi<br>\n",
    "Sarper Tutuncuoglu </p>"
   ]
  },
  {
   "cell_type": "markdown",
   "metadata": {},
   "source": [
    "Our group plans to investigate patterns in job applications and hiring in the city of New Orleans. We plan to focus predominantly on New Orleans City Service Departments in our analysis. \n",
    "\t"
   ]
  },
  {
   "cell_type": "markdown",
   "metadata": {},
   "source": [
    "The first dataset we have found describes [hiring data for city jobs in New Orleans.](https://data.nola.gov/City-Administration/City-Jobs-Hiring-Data/wx2k-rsac/data) We took this dataset from data.nola.gov. The dataset contains information about the job title/department, as well as the term length of the hire. One of the trends that we hope to further explore is a relationship between hire length and type of job. We believe that probationary hires may be unfairly exploited based on the easily terminable nature of their hiring terms. \n",
    "\t"
   ]
  },
  {
   "cell_type": "code",
   "execution_count": 26,
   "metadata": {},
   "outputs": [],
   "source": [
    "import pandas as pd\n",
    "import numpy as np\n",
    "import matplotlib.pyplot as plt\n",
    "import string"
   ]
  },
  {
   "cell_type": "code",
   "execution_count": 12,
   "metadata": {},
   "outputs": [
    {
     "data": {
      "text/html": [
       "<div>\n",
       "<style scoped>\n",
       "    .dataframe tbody tr th:only-of-type {\n",
       "        vertical-align: middle;\n",
       "    }\n",
       "\n",
       "    .dataframe tbody tr th {\n",
       "        vertical-align: top;\n",
       "    }\n",
       "\n",
       "    .dataframe thead th {\n",
       "        text-align: right;\n",
       "    }\n",
       "</style>\n",
       "<table border=\"1\" class=\"dataframe\">\n",
       "  <thead>\n",
       "    <tr style=\"text-align: right;\">\n",
       "      <th></th>\n",
       "      <th>Start_Date</th>\n",
       "      <th>Job_Title</th>\n",
       "      <th>Department</th>\n",
       "      <th>Department_Code</th>\n",
       "      <th>Job_Term</th>\n",
       "      <th>List_Type</th>\n",
       "      <th>Req_Number</th>\n",
       "      <th>Appointment_Type</th>\n",
       "    </tr>\n",
       "  </thead>\n",
       "  <tbody>\n",
       "    <tr>\n",
       "      <th>0</th>\n",
       "      <td>01/13/2020 06:00:00 AM</td>\n",
       "      <td>OFFICE ASSISTANT, TRAINEE (CLASS CODE 0020)</td>\n",
       "      <td>Office Of Community Development</td>\n",
       "      <td>719</td>\n",
       "      <td>Probationary</td>\n",
       "      <td>Regular and Promotional</td>\n",
       "      <td>2019-02185</td>\n",
       "      <td>New Hire/Rehire</td>\n",
       "    </tr>\n",
       "    <tr>\n",
       "      <th>1</th>\n",
       "      <td>02/23/2020 12:00:00 AM</td>\n",
       "      <td>OFFICE ASSISTANT, TRAINEE (CLASS CODE 0020)</td>\n",
       "      <td>Property Management</td>\n",
       "      <td>450</td>\n",
       "      <td>Probationary</td>\n",
       "      <td>Regular and Promotional</td>\n",
       "      <td>2020-00541</td>\n",
       "      <td>New Hire/Rehire</td>\n",
       "    </tr>\n",
       "    <tr>\n",
       "      <th>2</th>\n",
       "      <td>01/19/2020 12:00:00 AM</td>\n",
       "      <td>POLICE AIDE (CLASS CODE 7105)</td>\n",
       "      <td>Police Department</td>\n",
       "      <td>270</td>\n",
       "      <td>Probationary</td>\n",
       "      <td>Regular</td>\n",
       "      <td>2020-00088</td>\n",
       "      <td>New Hire/Rehire</td>\n",
       "    </tr>\n",
       "    <tr>\n",
       "      <th>3</th>\n",
       "      <td>03/01/2020 12:00:00 AM</td>\n",
       "      <td>POLICE AIDE (CLASS CODE 7105)</td>\n",
       "      <td>Police Department</td>\n",
       "      <td>270</td>\n",
       "      <td>Provisional</td>\n",
       "      <td>Regular</td>\n",
       "      <td>2020-00628</td>\n",
       "      <td>New Hire/Rehire</td>\n",
       "    </tr>\n",
       "    <tr>\n",
       "      <th>4</th>\n",
       "      <td>03/15/2020 12:00:00 AM</td>\n",
       "      <td>POLICE AIDE (CLASS CODE 7105)</td>\n",
       "      <td>Police Department</td>\n",
       "      <td>270</td>\n",
       "      <td>Provisional</td>\n",
       "      <td>Regular</td>\n",
       "      <td>2020-00645</td>\n",
       "      <td>New Hire/Rehire</td>\n",
       "    </tr>\n",
       "  </tbody>\n",
       "</table>\n",
       "</div>"
      ],
      "text/plain": [
       "               Start_Date                                    Job_Title  \\\n",
       "0  01/13/2020 06:00:00 AM  OFFICE ASSISTANT, TRAINEE (CLASS CODE 0020)   \n",
       "1  02/23/2020 12:00:00 AM  OFFICE ASSISTANT, TRAINEE (CLASS CODE 0020)   \n",
       "2  01/19/2020 12:00:00 AM                POLICE AIDE (CLASS CODE 7105)   \n",
       "3  03/01/2020 12:00:00 AM                POLICE AIDE (CLASS CODE 7105)   \n",
       "4  03/15/2020 12:00:00 AM                POLICE AIDE (CLASS CODE 7105)   \n",
       "\n",
       "                        Department Department_Code      Job_Term  \\\n",
       "0  Office Of Community Development             719  Probationary   \n",
       "1              Property Management             450  Probationary   \n",
       "2                Police Department             270  Probationary   \n",
       "3                Police Department             270   Provisional   \n",
       "4                Police Department             270   Provisional   \n",
       "\n",
       "                 List_Type  Req_Number Appointment_Type  \n",
       "0  Regular and Promotional  2019-02185  New Hire/Rehire  \n",
       "1  Regular and Promotional  2020-00541  New Hire/Rehire  \n",
       "2                  Regular  2020-00088  New Hire/Rehire  \n",
       "3                  Regular  2020-00628  New Hire/Rehire  \n",
       "4                  Regular  2020-00645  New Hire/Rehire  "
      ]
     },
     "execution_count": 12,
     "metadata": {},
     "output_type": "execute_result"
    }
   ],
   "source": [
    "hiring_df = pd.read_csv(\"./data/City_Jobs_Hiring_Data.csv\")\n",
    "hiring_df.head()"
   ]
  },
  {
   "cell_type": "markdown",
   "metadata": {},
   "source": [
    "Luckily, most of the data on data.nola.gov is already tidy. We can also observe that our only numerical variable, Start_Date, has a value in every entry. "
   ]
  },
  {
   "cell_type": "code",
   "execution_count": 13,
   "metadata": {},
   "outputs": [
    {
     "data": {
      "text/html": [
       "<div>\n",
       "<style scoped>\n",
       "    .dataframe tbody tr th:only-of-type {\n",
       "        vertical-align: middle;\n",
       "    }\n",
       "\n",
       "    .dataframe tbody tr th {\n",
       "        vertical-align: top;\n",
       "    }\n",
       "\n",
       "    .dataframe thead th {\n",
       "        text-align: right;\n",
       "    }\n",
       "</style>\n",
       "<table border=\"1\" class=\"dataframe\">\n",
       "  <thead>\n",
       "    <tr style=\"text-align: right;\">\n",
       "      <th></th>\n",
       "      <th>Start_Date</th>\n",
       "      <th>Job_Title</th>\n",
       "      <th>Department</th>\n",
       "      <th>Department_Code</th>\n",
       "      <th>Job_Term</th>\n",
       "      <th>List_Type</th>\n",
       "      <th>Req_Number</th>\n",
       "      <th>Appointment_Type</th>\n",
       "    </tr>\n",
       "  </thead>\n",
       "  <tbody>\n",
       "  </tbody>\n",
       "</table>\n",
       "</div>"
      ],
      "text/plain": [
       "Empty DataFrame\n",
       "Columns: [Start_Date, Job_Title, Department, Department_Code, Job_Term, List_Type, Req_Number, Appointment_Type]\n",
       "Index: []"
      ]
     },
     "execution_count": 13,
     "metadata": {},
     "output_type": "execute_result"
    }
   ],
   "source": [
    "hiring_df[hiring_df[\"Start_Date\"].isnull()]"
   ]
  },
  {
   "cell_type": "markdown",
   "metadata": {},
   "source": [
    "Because of this, we do not need to worry about NaNs. However, this dataset does have a few limitations. Firstly, it is not very large - if we hope to draw any widely applicable conclusions, we will need to find a bigger source of data. However, we believe that the trends which emerge in this dataset will help point us in the right direction for the rest of our project. Additionally, it lacks some demographic statistics that might generate more powerful conclusions - the pay of each job, the race and gender of the applicant, etc. We hope to gain insight on these topics by crossreferencing this dataset with others - potentially IRS/FRED data.\n",
    "\t"
   ]
  },
  {
   "cell_type": "markdown",
   "metadata": {},
   "source": [
    "Another dataset we are considering working with is [city job applications.](https://data.nola.gov/City-Administration/City-Job-Applications-Submitted/ewwx-j8eu/data)"
   ]
  },
  {
   "cell_type": "code",
   "execution_count": 14,
   "metadata": {},
   "outputs": [
    {
     "data": {
      "text/html": [
       "<div>\n",
       "<style scoped>\n",
       "    .dataframe tbody tr th:only-of-type {\n",
       "        vertical-align: middle;\n",
       "    }\n",
       "\n",
       "    .dataframe tbody tr th {\n",
       "        vertical-align: top;\n",
       "    }\n",
       "\n",
       "    .dataframe thead th {\n",
       "        text-align: right;\n",
       "    }\n",
       "</style>\n",
       "<table border=\"1\" class=\"dataframe\">\n",
       "  <thead>\n",
       "    <tr style=\"text-align: right;\">\n",
       "      <th></th>\n",
       "      <th>City Job Title</th>\n",
       "      <th>Application Date</th>\n",
       "    </tr>\n",
       "  </thead>\n",
       "  <tbody>\n",
       "    <tr>\n",
       "      <th>0</th>\n",
       "      <td>311 TELECOMMUNICATIONS OPERATOR (CLASS CODE 7401)</td>\n",
       "      <td>02/16/2018 12:00:00 AM</td>\n",
       "    </tr>\n",
       "    <tr>\n",
       "      <th>1</th>\n",
       "      <td>311 TELECOMMUNICATIONS OPERATOR (CLASS CODE 7401)</td>\n",
       "      <td>02/16/2018 12:00:00 AM</td>\n",
       "    </tr>\n",
       "    <tr>\n",
       "      <th>2</th>\n",
       "      <td>311 TELECOMMUNICATIONS OPERATOR (CLASS CODE 7401)</td>\n",
       "      <td>02/16/2018 12:00:00 AM</td>\n",
       "    </tr>\n",
       "    <tr>\n",
       "      <th>3</th>\n",
       "      <td>311 TELECOMMUNICATIONS OPERATOR (CLASS CODE 7401)</td>\n",
       "      <td>02/16/2018 12:00:00 AM</td>\n",
       "    </tr>\n",
       "    <tr>\n",
       "      <th>4</th>\n",
       "      <td>311 TELECOMMUNICATIONS OPERATOR (CLASS CODE 7401)</td>\n",
       "      <td>02/16/2018 12:00:00 AM</td>\n",
       "    </tr>\n",
       "  </tbody>\n",
       "</table>\n",
       "</div>"
      ],
      "text/plain": [
       "                                      City Job Title        Application Date\n",
       "0  311 TELECOMMUNICATIONS OPERATOR (CLASS CODE 7401)  02/16/2018 12:00:00 AM\n",
       "1  311 TELECOMMUNICATIONS OPERATOR (CLASS CODE 7401)  02/16/2018 12:00:00 AM\n",
       "2  311 TELECOMMUNICATIONS OPERATOR (CLASS CODE 7401)  02/16/2018 12:00:00 AM\n",
       "3  311 TELECOMMUNICATIONS OPERATOR (CLASS CODE 7401)  02/16/2018 12:00:00 AM\n",
       "4  311 TELECOMMUNICATIONS OPERATOR (CLASS CODE 7401)  02/16/2018 12:00:00 AM"
      ]
     },
     "execution_count": 14,
     "metadata": {},
     "output_type": "execute_result"
    }
   ],
   "source": [
    "application_df = pd.read_csv(\"./data/City_Job_Applications_Submitted.csv\")\n",
    "application_df.head()"
   ]
  },
  {
   "cell_type": "markdown",
   "metadata": {},
   "source": [
    " This dataset doesn’t give us much - simply the title of the job applied for and the time of application - but it is considerably larger than the first dataset. We can at least determine which jobs are most frequently applied to at different times of year using this dataset.\n",
    "\t"
   ]
  },
  {
   "cell_type": "markdown",
   "metadata": {},
   "source": [
    "For our collaboration plan, we are primarily using a combination of Github and Zoom meetings. We both have experience using Github to coordinate code in group projects, so we should be able to maintain an organized work environment. We have been meeting over Zoom on Sundays to touch base about work scheduling, but we are both able to have relatively flexible meeting patterns as the semester progresses."
   ]
  },
  {
   "cell_type": "markdown",
   "metadata": {},
   "source": [
    "We can also take a look at the city job requisition requests."
   ]
  },
  {
   "cell_type": "code",
   "execution_count": 15,
   "metadata": {},
   "outputs": [
    {
     "data": {
      "text/html": [
       "<div>\n",
       "<style scoped>\n",
       "    .dataframe tbody tr th:only-of-type {\n",
       "        vertical-align: middle;\n",
       "    }\n",
       "\n",
       "    .dataframe tbody tr th {\n",
       "        vertical-align: top;\n",
       "    }\n",
       "\n",
       "    .dataframe thead th {\n",
       "        text-align: right;\n",
       "    }\n",
       "</style>\n",
       "<table border=\"1\" class=\"dataframe\">\n",
       "  <thead>\n",
       "    <tr style=\"text-align: right;\">\n",
       "      <th></th>\n",
       "      <th>Req_Title</th>\n",
       "      <th>Req_Status</th>\n",
       "      <th>Department</th>\n",
       "      <th>Department_Code</th>\n",
       "      <th>Division</th>\n",
       "      <th>Job_Term</th>\n",
       "      <th>Received_Date</th>\n",
       "      <th>Req_Number</th>\n",
       "      <th>Description_Of_Duties_This_Sh</th>\n",
       "    </tr>\n",
       "  </thead>\n",
       "  <tbody>\n",
       "    <tr>\n",
       "      <th>0</th>\n",
       "      <td>Executive Counsel, City Council</td>\n",
       "      <td>Approved</td>\n",
       "      <td>City Council</td>\n",
       "      <td>200</td>\n",
       "      <td>Office of Chief of Staff</td>\n",
       "      <td>Unclassified</td>\n",
       "      <td>01/18/2019 11:38:37 AM</td>\n",
       "      <td>2019-00013</td>\n",
       "      <td>Representing the City Council's interests in l...</td>\n",
       "    </tr>\n",
       "    <tr>\n",
       "      <th>1</th>\n",
       "      <td>OFFICE ASSISTANT I (PROMOTIONAL) (CLASS CODE 0...</td>\n",
       "      <td>Filled</td>\n",
       "      <td>City Council</td>\n",
       "      <td>200</td>\n",
       "      <td>Council Research</td>\n",
       "      <td>Probationary</td>\n",
       "      <td>02/04/2019 10:53:57 AM</td>\n",
       "      <td>2019-00529</td>\n",
       "      <td>Promotion of Mary Hammothe from Office Assista...</td>\n",
       "    </tr>\n",
       "    <tr>\n",
       "      <th>2</th>\n",
       "      <td>Community Relations &amp; Constituent Services Rep.</td>\n",
       "      <td>Approved</td>\n",
       "      <td>City Council</td>\n",
       "      <td>200</td>\n",
       "      <td>Council District D</td>\n",
       "      <td>Unclassified</td>\n",
       "      <td>02/13/2019 10:44:16 AM</td>\n",
       "      <td>2019-00570</td>\n",
       "      <td>The Community Relations &amp; Constituent Services...</td>\n",
       "    </tr>\n",
       "    <tr>\n",
       "      <th>3</th>\n",
       "      <td>Constituent Services and Outreach</td>\n",
       "      <td>Approved</td>\n",
       "      <td>City Council</td>\n",
       "      <td>200</td>\n",
       "      <td>Council District B</td>\n",
       "      <td>Unclassified</td>\n",
       "      <td>02/20/2019 12:29:38 PM</td>\n",
       "      <td>2019-00673</td>\n",
       "      <td>Ms. Brock will be responsible for supporting t...</td>\n",
       "    </tr>\n",
       "    <tr>\n",
       "      <th>4</th>\n",
       "      <td>Legislative Aide</td>\n",
       "      <td>Approved</td>\n",
       "      <td>City Council</td>\n",
       "      <td>200</td>\n",
       "      <td>Council District A</td>\n",
       "      <td>Unclassified</td>\n",
       "      <td>03/04/2019 02:56:05 PM</td>\n",
       "      <td>2019-00745</td>\n",
       "      <td>Legislative Aide working part-time in Council ...</td>\n",
       "    </tr>\n",
       "  </tbody>\n",
       "</table>\n",
       "</div>"
      ],
      "text/plain": [
       "                                           Req_Title Req_Status    Department  \\\n",
       "0                    Executive Counsel, City Council   Approved  City Council   \n",
       "1  OFFICE ASSISTANT I (PROMOTIONAL) (CLASS CODE 0...     Filled  City Council   \n",
       "2    Community Relations & Constituent Services Rep.   Approved  City Council   \n",
       "3                  Constituent Services and Outreach   Approved  City Council   \n",
       "4                                   Legislative Aide   Approved  City Council   \n",
       "\n",
       "  Department_Code                  Division      Job_Term  \\\n",
       "0             200  Office of Chief of Staff  Unclassified   \n",
       "1             200          Council Research  Probationary   \n",
       "2             200        Council District D  Unclassified   \n",
       "3             200        Council District B  Unclassified   \n",
       "4             200        Council District A  Unclassified   \n",
       "\n",
       "            Received_Date  Req_Number  \\\n",
       "0  01/18/2019 11:38:37 AM  2019-00013   \n",
       "1  02/04/2019 10:53:57 AM  2019-00529   \n",
       "2  02/13/2019 10:44:16 AM  2019-00570   \n",
       "3  02/20/2019 12:29:38 PM  2019-00673   \n",
       "4  03/04/2019 02:56:05 PM  2019-00745   \n",
       "\n",
       "                       Description_Of_Duties_This_Sh  \n",
       "0  Representing the City Council's interests in l...  \n",
       "1  Promotion of Mary Hammothe from Office Assista...  \n",
       "2  The Community Relations & Constituent Services...  \n",
       "3  Ms. Brock will be responsible for supporting t...  \n",
       "4  Legislative Aide working part-time in Council ...  "
      ]
     },
     "execution_count": 15,
     "metadata": {},
     "output_type": "execute_result"
    }
   ],
   "source": [
    "req_df = pd.read_csv(\"./data/City_Jobs_Requisition_Requests.csv\")\n",
    "req_df.head()"
   ]
  },
  {
   "cell_type": "markdown",
   "metadata": {},
   "source": [
    "The `Req_Status` variable gives us a good preliminary impression of the demand for city jobs - how often city jobs requests are requested, versus how often they are fulfilled. "
   ]
  },
  {
   "cell_type": "code",
   "execution_count": 16,
   "metadata": {
    "scrolled": true
   },
   "outputs": [
    {
     "data": {
      "text/plain": [
       "<matplotlib.axes._subplots.AxesSubplot at 0x7f635775ea30>"
      ]
     },
     "execution_count": 16,
     "metadata": {},
     "output_type": "execute_result"
    },
    {
     "data": {
      "image/png": "[encoded data removed]",
      "text/plain": [
       "<Figure size 432x288 with 1 Axes>"
      ]
     },
     "metadata": {},
     "output_type": "display_data"
    }
   ],
   "source": [
    "req_df['Req_Status'].value_counts().plot.pie()"
   ]
  },
  {
   "cell_type": "markdown",
   "metadata": {},
   "source": [
    "We can map these values numerically to determine which city jobs are most or least likely to be filled. We can consider the values \"Filled\" or \"Approved\" as a full completion of the request (1), and \"On Hold\", \"Open\" or \"Cancelled\" as an incomplete request (0). We can map \"In Progress\" as a partial completion (0.5). We can then take the mean to determine the approximate probability that a request will be fulfilled. "
   ]
  },
  {
   "cell_type": "code",
   "execution_count": 17,
   "metadata": {},
   "outputs": [
    {
     "data": {
      "text/plain": [
       "0.576"
      ]
     },
     "execution_count": 17,
     "metadata": {},
     "output_type": "execute_result"
    }
   ],
   "source": [
    "req_df[\"Req_Status_Num\"] = req_df[\"Req_Status\"].map({\n",
    "       \"Filled\": 1,\n",
    "       \"Approved\": 1,\n",
    "       \"In Progress\": 0.5,\n",
    "       \"Cancelled\": 0,\n",
    "       \"Open\": 0,\n",
    "       \"On Hold\": 0\n",
    "})\n",
    "\n",
    "req_df[\"Req_Status_Num\"].mean()"
   ]
  },
  {
   "cell_type": "markdown",
   "metadata": {},
   "source": [
    "The overall probability that a request will be fulfilled is ~57.6%. Now, we can inspect these probabilities by department."
   ]
  },
  {
   "cell_type": "code",
   "execution_count": 18,
   "metadata": {},
   "outputs": [
    {
     "data": {
      "text/plain": [
       "Department\n",
       "Municipal Yacht Harbor                            1.000000\n",
       "Coroner's Office                                  1.000000\n",
       "Historic Districts and Landmarks Commission       1.000000\n",
       "New Orleans Public Library                        1.000000\n",
       "Law Department                                    0.961538\n",
       "Juvenile Court                                    0.916667\n",
       "Sanitation Department                             0.858824\n",
       "Mayor's Office                                    0.855140\n",
       "Vieux Carre Commission                            0.833333\n",
       "Office Of Community Development                   0.833333\n",
       "Parks & Parkways                                  0.802469\n",
       "Clerk of Criminal District Court                  0.800000\n",
       "City Council                                      0.791667\n",
       "Municipal Court                                   0.784314\n",
       "Civil Service Department                          0.767857\n",
       "Health Department                                 0.699367\n",
       "Fire Department                                   0.699248\n",
       "Office of Inspector General                       0.687500\n",
       "Property Management                               0.682927\n",
       "Police Department                                 0.682867\n",
       "Miscellaneous                                     0.663580\n",
       "Finance Department                                0.650000\n",
       "New Orleans Mosquito and Termite Control Board    0.578947\n",
       "Human Services                                    0.561047\n",
       "Office of Independent Police Monitor              0.500000\n",
       "Safety & Permits                                  0.494444\n",
       "Public Works Department                           0.479885\n",
       "Chief Administrative Office                       0.452381\n",
       "City Planning Commission                          0.448276\n",
       "French Market Corporation                         0.444444\n",
       "NOPD                                              0.423077\n",
       "New Orleans Aviation Board                        0.422535\n",
       "Sewerage and Water Board of New Orleans           0.294268\n",
       "Name: Req_Status_Num, dtype: float64"
      ]
     },
     "execution_count": 18,
     "metadata": {},
     "output_type": "execute_result"
    }
   ],
   "source": [
    "req_df.groupby(['Department'])[\"Req_Status_Num\"].mean().sort_values(ascending=False)"
   ]
  },
  {
   "cell_type": "markdown",
   "metadata": {},
   "source": [
    "## New Orleans City Jobs Pay Plan\n"
   ]
  },
  {
   "cell_type": "markdown",
   "metadata": {},
   "source": [
    "<p> The following code is to scrape the data in this PDF document which was retreived through the New Orleans city website. <a href=\"./data/nola_city_jobs_pay_plan.pdf\"> New Orleans City Jobs Pay Plan</a> </p>"
   ]
  },
  {
   "cell_type": "markdown",
   "metadata": {},
   "source": [
    "<p> The PDF was first converted into a text file using this tool: <a href=\"https://www.pdf2go.com/pdf-to-text\"> PDF Converter</a></p>"
   ]
  },
  {
   "cell_type": "code",
   "execution_count": 19,
   "metadata": {},
   "outputs": [],
   "source": [
    "f = open('./data/nola_city_jobs_pay_plan_edited_pay_grade_table.txt', 'r') \n",
    "raw_str = f.read()\n",
    "f.close\n",
    "\n",
    "raw_str = raw_str.replace('\\n\\n', '\\n') #remove empty lines\n",
    "\n",
    "raw_str = raw_str.replace(' ', '') #some numbers have spaces in between them, remove those spaces\n",
    "raw_str = raw_str.replace('.', '') #remove all the decimal point dots to make all numbers consistent (all numbers in the PDF have 2 decimal points, so it can be fixed later)\n",
    "\n",
    "raw_numbers = raw_str.split('\\n') #every line as an element in a list\n",
    "\n",
    "raw_numbers = [element for element in raw_numbers if element.isnumeric()] #remove titles/headers\n",
    "\n",
    "data = {}\n",
    "    \n",
    "first_page_length = 85 - 34 + 1    \n",
    "second_page_length = 135 - 86 + 1\n",
    "\n",
    "for i, entry in enumerate(raw_numbers):\n",
    "    \n",
    "    if i < first_page_length: data.setdefault('Pay Grade', []).append(int(entry))\n",
    "    elif i < 2*first_page_length: data.setdefault('Step 1', []).append(entry)\n",
    "    elif i < 3*first_page_length: data.setdefault('Step 2', []).append(entry)\n",
    "    elif i < 4*first_page_length: data.setdefault('Step 3', []).append(entry)\n",
    "    elif i < 5*first_page_length: data.setdefault('Step 4', []).append(entry)\n",
    "    elif i < 6*first_page_length: data.setdefault('Step 5', []).append(entry)\n",
    "    elif i < 7*first_page_length: data.setdefault('Step 11', []).append(entry)\n",
    "    elif i < 8*first_page_length: data.setdefault('Step 21', []).append(entry)\n",
    "    elif i < 9*first_page_length: data.setdefault('Step 41', []).append(entry)\n",
    "    elif i < 9*first_page_length + second_page_length: data['Pay Grade'].append(int(entry))\n",
    "    elif i < 9*first_page_length + 2*second_page_length: data['Step 1'].append(entry)\n",
    "    elif i < 9*first_page_length + 3*second_page_length: data['Step 2'].append(entry)\n",
    "    elif i < 9*first_page_length + 4*second_page_length: data['Step 3'].append(entry)\n",
    "    elif i < 9*first_page_length + 5*second_page_length: data['Step 4'].append(entry)\n",
    "    elif i < 9*first_page_length + 6*second_page_length: data['Step 5'].append(entry)\n",
    "    elif i < 9*first_page_length + 7*second_page_length: data['Step 11'].append(entry)\n",
    "    elif i < 9*first_page_length + 8*second_page_length: data['Step 21'].append(entry)\n",
    "    elif i < 9*first_page_length + 9*second_page_length: data['Step 41'].append(entry)\n",
    "    \n",
    "length = 135 - 34 + 1\n",
    "\n",
    "for key in data:\n",
    "    if(len(data[key]) != length):\n",
    "        print(\"LENGTHS DON'T MATCH\")\n",
    "        \n",
    "#LENGTHS MATCH!\n",
    "\n",
    "#add decimal points to pay data and convert to float\n",
    "data = {key: [float(elem[:-2] + '.' + elem[-2:]) for elem in data[key]] if key != 'Pay Grade' else data[key] for key in data}"
   ]
  },
  {
   "cell_type": "code",
   "execution_count": 20,
   "metadata": {},
   "outputs": [
    {
     "data": {
      "text/html": [
       "<div>\n",
       "<style scoped>\n",
       "    .dataframe tbody tr th:only-of-type {\n",
       "        vertical-align: middle;\n",
       "    }\n",
       "\n",
       "    .dataframe tbody tr th {\n",
       "        vertical-align: top;\n",
       "    }\n",
       "\n",
       "    .dataframe thead th {\n",
       "        text-align: right;\n",
       "    }\n",
       "</style>\n",
       "<table border=\"1\" class=\"dataframe\">\n",
       "  <thead>\n",
       "    <tr style=\"text-align: right;\">\n",
       "      <th></th>\n",
       "      <th>Pay Grade</th>\n",
       "      <th>Step 1</th>\n",
       "      <th>Step 2</th>\n",
       "      <th>Step 3</th>\n",
       "      <th>Step 4</th>\n",
       "      <th>Step 5</th>\n",
       "      <th>Step 11</th>\n",
       "      <th>Step 21</th>\n",
       "      <th>Step 41</th>\n",
       "    </tr>\n",
       "  </thead>\n",
       "  <tbody>\n",
       "    <tr>\n",
       "      <th>0</th>\n",
       "      <td>34</td>\n",
       "      <td>15909.85</td>\n",
       "      <td>16108.73</td>\n",
       "      <td>16310.09</td>\n",
       "      <td>16513.96</td>\n",
       "      <td>16720.39</td>\n",
       "      <td>18014.26</td>\n",
       "      <td>20397.03</td>\n",
       "      <td>26149.75</td>\n",
       "    </tr>\n",
       "    <tr>\n",
       "      <th>1</th>\n",
       "      <td>35</td>\n",
       "      <td>16310.09</td>\n",
       "      <td>16513.96</td>\n",
       "      <td>16720.39</td>\n",
       "      <td>16929.39</td>\n",
       "      <td>17141.01</td>\n",
       "      <td>18467.44</td>\n",
       "      <td>20910.14</td>\n",
       "      <td>26807.58</td>\n",
       "    </tr>\n",
       "    <tr>\n",
       "      <th>2</th>\n",
       "      <td>36</td>\n",
       "      <td>16720.39</td>\n",
       "      <td>16929.39</td>\n",
       "      <td>17141.01</td>\n",
       "      <td>17355.27</td>\n",
       "      <td>17572.21</td>\n",
       "      <td>18932.01</td>\n",
       "      <td>21436.16</td>\n",
       "      <td>27481.95</td>\n",
       "    </tr>\n",
       "    <tr>\n",
       "      <th>3</th>\n",
       "      <td>37</td>\n",
       "      <td>17141.01</td>\n",
       "      <td>17355.27</td>\n",
       "      <td>17572.21</td>\n",
       "      <td>17791.87</td>\n",
       "      <td>18014.26</td>\n",
       "      <td>19408.26</td>\n",
       "      <td>21975.41</td>\n",
       "      <td>28173.30</td>\n",
       "    </tr>\n",
       "    <tr>\n",
       "      <th>4</th>\n",
       "      <td>38</td>\n",
       "      <td>17572.21</td>\n",
       "      <td>17791.87</td>\n",
       "      <td>18014.26</td>\n",
       "      <td>18239.44</td>\n",
       "      <td>18467.44</td>\n",
       "      <td>19896.50</td>\n",
       "      <td>22528.23</td>\n",
       "      <td>28882.03</td>\n",
       "    </tr>\n",
       "  </tbody>\n",
       "</table>\n",
       "</div>"
      ],
      "text/plain": [
       "   Pay Grade    Step 1    Step 2    Step 3    Step 4    Step 5   Step 11  \\\n",
       "0         34  15909.85  16108.73  16310.09  16513.96  16720.39  18014.26   \n",
       "1         35  16310.09  16513.96  16720.39  16929.39  17141.01  18467.44   \n",
       "2         36  16720.39  16929.39  17141.01  17355.27  17572.21  18932.01   \n",
       "3         37  17141.01  17355.27  17572.21  17791.87  18014.26  19408.26   \n",
       "4         38  17572.21  17791.87  18014.26  18239.44  18467.44  19896.50   \n",
       "\n",
       "    Step 21   Step 41  \n",
       "0  20397.03  26149.75  \n",
       "1  20910.14  26807.58  \n",
       "2  21436.16  27481.95  \n",
       "3  21975.41  28173.30  \n",
       "4  22528.23  28882.03  "
      ]
     },
     "execution_count": 20,
     "metadata": {},
     "output_type": "execute_result"
    }
   ],
   "source": [
    "pay_grades_df = pd.DataFrame(data)\n",
    "pay_grades_df.head()"
   ]
  },
  {
   "cell_type": "markdown",
   "metadata": {},
   "source": [
    "This data shows the: \n",
    "<ul>\n",
    "    <li>minimum (Step 1)</li>\n",
    "    <li>2nd quartile (Step 11)</li>\n",
    "    <li>midpoint (Step 21)</li>\n",
    "    <li>maximum (Step 41)</li>\n",
    "</ul>\n",
    "\n",
    "salaries for the corresponding pay grades"
   ]
  },
  {
   "cell_type": "markdown",
   "metadata": {},
   "source": [
    "This <a href=\"https://www.utdallas.edu/hr/compensation/standards/#:~:text=Second%20Quartile%3A%20The%20second%20quartile,experienced%20employee%20at%20that%20level.\"> UT Dallas </a> source helps us understand how salary quartiles work:"
   ]
  },
  {
   "cell_type": "markdown",
   "metadata": {},
   "source": [
    "<img src=\"./src/salary_ranges_and_quartiles.png\"/>"
   ]
  },
  {
   "cell_type": "markdown",
   "metadata": {},
   "source": [
    "The following code is to scrape the rows that map city positions to min and max pay ranges in the <a href=\"./data/nola_city_jobs_pay_plan.pdf\">PDF</a>"
   ]
  },
  {
   "cell_type": "code",
   "execution_count": 102,
   "metadata": {},
   "outputs": [],
   "source": [
    "f = open('./data/nola_city_jobs_pay_plan_edited_positions_to_pay.txt', 'r') \n",
    "raw_str = f.read()\n",
    "f.close\n",
    "\n",
    "raw_str = raw_str.replace('\\x0c', '') #remove the weirdly encoded characters\n",
    "raw_str = raw_str.replace('\\n\\n', '\\n') #remove empty rows\n",
    "\n",
    "#characters to filter in\n",
    "characters = list(string.ascii_uppercase) + list(string.ascii_lowercase) + list(string.digits) + [' ', ',', '(', ')', '\\n']\n",
    "\n",
    "#filter out all the characters that are not in the 'characters' list\n",
    "raw_str = ''.join([character for character in raw_str if character in characters])\n",
    "\n",
    "rows = raw_str.split('\\n')\n",
    "rows\n",
    "\n",
    "data = []\n",
    "\n",
    "for row in rows:\n",
    "    line = row.strip()\n",
    "\n",
    "    cleaned_row  = []\n",
    "    elements = line.split(' ')\n",
    "    elements = [element for element in elements if element != '']\n",
    "    #print(elements)\n",
    "    \n",
    "    if len(elements) < 5: continue\n",
    "    \n",
    "    \n",
    "    \n",
    "    \n",
    "    elem = elements.pop(0)\n",
    "\n",
    "    if elem == 'EX':\n",
    "        cleaned_row.append('EX')\n",
    "        elem = elements.pop(0)\n",
    "    else:\n",
    "        cleaned_row.append(np.nan)\n",
    "\n",
    "    if elem[0] == '(':\n",
    "        cleaned_row.append(elem[1])\n",
    "        elem = elements.pop(0)\n",
    "    else:\n",
    "        cleaned_row.append(np.nan)\n",
    "\n",
    "    if elem[0] == 'C' or (len(elem) > 1 and elem[1].isnumeric()):\n",
    "        cleaned_row.append(elem)\n",
    "    else:\n",
    "        cleaned_row.append(np.nan)\n",
    "\n",
    "        \n",
    "    if cleaned_row == [np.nan, np.nan, np.nan]: continue\n",
    "    \n",
    "    \n",
    "    \n",
    "    position = ''\n",
    "    \n",
    "    elem = elements.pop(0)\n",
    "    while (not elem.isnumeric() or elem == '311' or elem == '911') and not elem =='Y':\n",
    "        position += elem + ' '\n",
    "        elem = elements.pop(0)\n",
    "    \n",
    "    cleaned_row.append(position.strip())\n",
    "    \n",
    "    if elem == 'Y':\n",
    "        cleaned_row.append(True)\n",
    "    elif elem.isnumeric():\n",
    "        cleaned_row.append(False)\n",
    "        cleaned_row.append(elem)\n",
    "    \n",
    "    cleaned_row += elements\n",
    "        \n",
    "    data.append(cleaned_row)\n",
    "        \n",
    "data = [row for row in data if len(row) == 10]\n",
    "\n",
    "for row in data:\n",
    "    \n",
    "    row[6] = row[6].replace('(', '')\n",
    "    row[6] = row[6].replace(')', '')\n",
    "    row[9] = row[9].replace('(', '')\n",
    "    row[9] = row[9].replace(')', '')\n",
    "    \n",
    "    row[6] = float(row[6].replace(',', ''))\n",
    "    row[7] = float(row[7].replace(',', ''))\n",
    "    try:\n",
    "        row[9] = float(row[9].replace(',', ''))\n",
    "    except ValueError:\n",
    "        row[9] = np.nan\n"
   ]
  },
  {
   "cell_type": "code",
   "execution_count": 103,
   "metadata": {},
   "outputs": [
    {
     "data": {
      "text/html": [
       "<div>\n",
       "<style scoped>\n",
       "    .dataframe tbody tr th:only-of-type {\n",
       "        vertical-align: middle;\n",
       "    }\n",
       "\n",
       "    .dataframe tbody tr th {\n",
       "        vertical-align: top;\n",
       "    }\n",
       "\n",
       "    .dataframe thead th {\n",
       "        text-align: right;\n",
       "    }\n",
       "</style>\n",
       "<table border=\"1\" class=\"dataframe\">\n",
       "  <thead>\n",
       "    <tr style=\"text-align: right;\">\n",
       "      <th></th>\n",
       "      <th>EAP</th>\n",
       "      <th>OC</th>\n",
       "      <th>Code</th>\n",
       "      <th>Position Class</th>\n",
       "      <th>EQP</th>\n",
       "      <th>Grade</th>\n",
       "      <th>Min</th>\n",
       "      <th>Max</th>\n",
       "      <th>Step</th>\n",
       "      <th>Rate</th>\n",
       "    </tr>\n",
       "  </thead>\n",
       "  <tbody>\n",
       "    <tr>\n",
       "      <th>0</th>\n",
       "      <td>NaN</td>\n",
       "      <td>NaN</td>\n",
       "      <td>C7401</td>\n",
       "      <td>311 TELECOMMUNICATIONS OPERATOR</td>\n",
       "      <td>False</td>\n",
       "      <td>50</td>\n",
       "      <td>23675.0</td>\n",
       "      <td>38914.0</td>\n",
       "      <td>09</td>\n",
       "      <td>26149.0</td>\n",
       "    </tr>\n",
       "    <tr>\n",
       "      <th>1</th>\n",
       "      <td>NaN</td>\n",
       "      <td>NaN</td>\n",
       "      <td>C7406</td>\n",
       "      <td>311 TELECOMMUNICATIONS OPERATOR, DIVISION MANAGER</td>\n",
       "      <td>False</td>\n",
       "      <td>1</td>\n",
       "      <td>39893.0</td>\n",
       "      <td>65569.0</td>\n",
       "      <td>09</td>\n",
       "      <td>44061.0</td>\n",
       "    </tr>\n",
       "    <tr>\n",
       "      <th>2</th>\n",
       "      <td>NaN</td>\n",
       "      <td>NaN</td>\n",
       "      <td>C7405</td>\n",
       "      <td>311 TELECOMMUNICATIONS OPERATOR, PRINCIPAL</td>\n",
       "      <td>False</td>\n",
       "      <td>61</td>\n",
       "      <td>31117.0</td>\n",
       "      <td>51144.0</td>\n",
       "      <td>09</td>\n",
       "      <td>34368.0</td>\n",
       "    </tr>\n",
       "    <tr>\n",
       "      <th>3</th>\n",
       "      <td>NaN</td>\n",
       "      <td>NaN</td>\n",
       "      <td>C7402</td>\n",
       "      <td>311 TELECOMMUNICATIONS OPERATOR, SENIOR</td>\n",
       "      <td>False</td>\n",
       "      <td>56</td>\n",
       "      <td>27481.0</td>\n",
       "      <td>45169.0</td>\n",
       "      <td>09</td>\n",
       "      <td>30353.0</td>\n",
       "    </tr>\n",
       "    <tr>\n",
       "      <th>4</th>\n",
       "      <td>NaN</td>\n",
       "      <td>NaN</td>\n",
       "      <td>C7403</td>\n",
       "      <td>311 TELECOMMUNICATIONS OPERATOR, SUPERVISOR</td>\n",
       "      <td>False</td>\n",
       "      <td>67</td>\n",
       "      <td>36119.0</td>\n",
       "      <td>59366.0</td>\n",
       "      <td>09</td>\n",
       "      <td>39893.0</td>\n",
       "    </tr>\n",
       "  </tbody>\n",
       "</table>\n",
       "</div>"
      ],
      "text/plain": [
       "   EAP   OC   Code                                     Position Class    EQP  \\\n",
       "0  NaN  NaN  C7401                    311 TELECOMMUNICATIONS OPERATOR  False   \n",
       "1  NaN  NaN  C7406  311 TELECOMMUNICATIONS OPERATOR, DIVISION MANAGER  False   \n",
       "2  NaN  NaN  C7405         311 TELECOMMUNICATIONS OPERATOR, PRINCIPAL  False   \n",
       "3  NaN  NaN  C7402            311 TELECOMMUNICATIONS OPERATOR, SENIOR  False   \n",
       "4  NaN  NaN  C7403        311 TELECOMMUNICATIONS OPERATOR, SUPERVISOR  False   \n",
       "\n",
       "  Grade      Min      Max Step     Rate  \n",
       "0    50  23675.0  38914.0   09  26149.0  \n",
       "1     1  39893.0  65569.0   09  44061.0  \n",
       "2    61  31117.0  51144.0   09  34368.0  \n",
       "3    56  27481.0  45169.0   09  30353.0  \n",
       "4    67  36119.0  59366.0   09  39893.0  "
      ]
     },
     "execution_count": 103,
     "metadata": {},
     "output_type": "execute_result"
    }
   ],
   "source": [
    "positions_to_pay_df = pd.DataFrame(data, columns=[\n",
    "    'EAP', 'OC', 'Code', 'Position Class', 'EQP', 'Grade', 'Min', 'Max', 'Step', 'Rate'\n",
    "])\n",
    "positions_to_pay_df.head()"
   ]
  },
  {
   "cell_type": "markdown",
   "metadata": {},
   "source": [
    "<ul>\n",
    "    <li><strong>EAP</strong>: \"EX\" to indicate which classifications are exempt from the FLSA regulations on overtime</li>\n",
    "    <li><strong>OC</strong>:  Occupational code as defined by the Federal Equal Employment Opportunity Commission</li>\n",
    "    <li><strong>Code</strong>: Code for position class</li>\n",
    "    <li><strong>Position Class</strong>: Description of job title</li>\n",
    "    <li><strong>EQP</strong>:  Indicates positions where employees have been hired at a rate above the base rate</li>\n",
    "    <li><strong>Grade</strong>: Pay grade (the corresponding pay grade in the <strong>pay_grades_df</strong> table)</li>\n",
    "    <li><strong>Min</strong>: Minimum salary for position</li>\n",
    "    <li><strong>Max</strong>: Maximum salary for position</li>\n",
    "    <li><strong>Step</strong>: Pay grade step (the corresponding step in the <strong>pay_grades_df</strong> table)</li>\n",
    "    <li><strong>Rate</strong>: Hiring rate (salary to which an employee is assigned upon entering the job)</li>\n",
    "</ul>"
   ]
  },
  {
   "cell_type": "code",
   "execution_count": 104,
   "metadata": {},
   "outputs": [
    {
     "data": {
      "text/plain": [
       "EAP                object\n",
       "OC                 object\n",
       "Code               object\n",
       "Position Class     object\n",
       "EQP                  bool\n",
       "Grade              object\n",
       "Min               float64\n",
       "Max               float64\n",
       "Step               object\n",
       "Rate              float64\n",
       "dtype: object"
      ]
     },
     "execution_count": 104,
     "metadata": {},
     "output_type": "execute_result"
    }
   ],
   "source": [
    "positions_to_pay_df.dtypes"
   ]
  },
  {
   "cell_type": "markdown",
   "metadata": {},
   "source": [
    "The histogram below shows the distribution of the hiring rates of city jobs. Hiring rate is the rate at which an employee is first hired for the position). We can see that it's highly skewed to the right, which is expected."
   ]
  },
  {
   "cell_type": "code",
   "execution_count": 105,
   "metadata": {},
   "outputs": [
    {
     "data": {
      "text/plain": [
       "array([[<matplotlib.axes._subplots.AxesSubplot object at 0x7f634f010c40>]],\n",
       "      dtype=object)"
      ]
     },
     "execution_count": 105,
     "metadata": {},
     "output_type": "execute_result"
    },
    {
     "data": {
      "image/png": "[encoded data removed]",
      "text/plain": [
       "<Figure size 432x288 with 1 Axes>"
      ]
     },
     "metadata": {
      "needs_background": "light"
     },
     "output_type": "display_data"
    }
   ],
   "source": [
    "positions_to_pay_df.hist('Rate', bins=10)"
   ]
  },
  {
   "cell_type": "code",
   "execution_count": 106,
   "metadata": {},
   "outputs": [
    {
     "data": {
      "text/html": [
       "<div>\n",
       "<style scoped>\n",
       "    .dataframe tbody tr th:only-of-type {\n",
       "        vertical-align: middle;\n",
       "    }\n",
       "\n",
       "    .dataframe tbody tr th {\n",
       "        vertical-align: top;\n",
       "    }\n",
       "\n",
       "    .dataframe thead th {\n",
       "        text-align: right;\n",
       "    }\n",
       "</style>\n",
       "<table border=\"1\" class=\"dataframe\">\n",
       "  <thead>\n",
       "    <tr style=\"text-align: right;\">\n",
       "      <th></th>\n",
       "      <th>Min</th>\n",
       "      <th>Max</th>\n",
       "      <th>Rate</th>\n",
       "    </tr>\n",
       "  </thead>\n",
       "  <tbody>\n",
       "    <tr>\n",
       "      <th>count</th>\n",
       "      <td>662.000000</td>\n",
       "      <td>662.000000</td>\n",
       "      <td>614.000000</td>\n",
       "    </tr>\n",
       "    <tr>\n",
       "      <th>mean</th>\n",
       "      <td>45118.051360</td>\n",
       "      <td>72989.531722</td>\n",
       "      <td>51238.956026</td>\n",
       "    </tr>\n",
       "    <tr>\n",
       "      <th>std</th>\n",
       "      <td>20613.189732</td>\n",
       "      <td>32578.382683</td>\n",
       "      <td>22865.071056</td>\n",
       "    </tr>\n",
       "    <tr>\n",
       "      <th>min</th>\n",
       "      <td>3232.000000</td>\n",
       "      <td>7675.000000</td>\n",
       "      <td>20397.000000</td>\n",
       "    </tr>\n",
       "    <tr>\n",
       "      <th>25%</th>\n",
       "      <td>30353.000000</td>\n",
       "      <td>49889.000000</td>\n",
       "      <td>34368.000000</td>\n",
       "    </tr>\n",
       "    <tr>\n",
       "      <th>50%</th>\n",
       "      <td>39893.000000</td>\n",
       "      <td>65569.000000</td>\n",
       "      <td>45169.000000</td>\n",
       "    </tr>\n",
       "    <tr>\n",
       "      <th>75%</th>\n",
       "      <td>55102.000000</td>\n",
       "      <td>90567.000000</td>\n",
       "      <td>63960.000000</td>\n",
       "    </tr>\n",
       "    <tr>\n",
       "      <th>max</th>\n",
       "      <td>128242.000000</td>\n",
       "      <td>210781.000000</td>\n",
       "      <td>152602.000000</td>\n",
       "    </tr>\n",
       "  </tbody>\n",
       "</table>\n",
       "</div>"
      ],
      "text/plain": [
       "                 Min            Max           Rate\n",
       "count     662.000000     662.000000     614.000000\n",
       "mean    45118.051360   72989.531722   51238.956026\n",
       "std     20613.189732   32578.382683   22865.071056\n",
       "min      3232.000000    7675.000000   20397.000000\n",
       "25%     30353.000000   49889.000000   34368.000000\n",
       "50%     39893.000000   65569.000000   45169.000000\n",
       "75%     55102.000000   90567.000000   63960.000000\n",
       "max    128242.000000  210781.000000  152602.000000"
      ]
     },
     "execution_count": 106,
     "metadata": {},
     "output_type": "execute_result"
    }
   ],
   "source": [
    "positions_to_pay_df[['Min', 'Max', 'Rate']].describe()"
   ]
  },
  {
   "cell_type": "code",
   "execution_count": null,
   "metadata": {},
   "outputs": [],
   "source": []
  }
 ],
 "metadata": {
  "kernelspec": {
   "display_name": "Python 3",
   "language": "python",
   "name": "python3"
  },
  "language_info": {
   "codemirror_mode": {
    "name": "ipython",
    "version": 3
   },
   "file_extension": ".py",
   "mimetype": "text/x-python",
   "name": "python",
   "nbconvert_exporter": "python",
   "pygments_lexer": "ipython3",
   "version": "3.8.3"
  }
 },
 "nbformat": 4,
 "nbformat_minor": 4
}

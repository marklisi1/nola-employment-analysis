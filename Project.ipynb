{
 "cells": [
  {
   "cell_type": "markdown",
   "metadata": {},
   "source": [
    "[GitHub.io Link](marklisi1.github.io)"
   ]
  },
  {
   "cell_type": "markdown",
   "metadata": {},
   "source": [
    "# Final Tutorial: Employment in New Orleans\n",
    "<p> Mark Lisi<br>\n",
    "Sarper Tutuncuoglu </p>"
   ]
  },
  {
   "cell_type": "markdown",
   "metadata": {},
   "source": [
    "In this tutorial, we aim to investigate patterns in employment in the city of New Orleans. We plan to focus predominantly on New Orleans City Service Departments in our analysis.\n",
    "\t"
   ]
  },
  {
   "cell_type": "code",
   "execution_count": 2,
   "metadata": {},
   "outputs": [],
   "source": [
    "import pandas as pd\n",
    "import numpy as np\n",
    "import matplotlib.pyplot as plt\n",
    "import string\n",
    "import re"
   ]
  },
  {
   "cell_type": "markdown",
   "metadata": {},
   "source": [
    "Another dataset we are considering working with is [city job applications.](https://data.nola.gov/City-Administration/City-Job-Applications-Submitted/ewwx-j8eu/data)"
   ]
  },
  {
   "cell_type": "code",
   "execution_count": 23,
   "metadata": {},
   "outputs": [
    {
     "data": {
      "text/html": [
       "<div>\n",
       "<style scoped>\n",
       "    .dataframe tbody tr th:only-of-type {\n",
       "        vertical-align: middle;\n",
       "    }\n",
       "\n",
       "    .dataframe tbody tr th {\n",
       "        vertical-align: top;\n",
       "    }\n",
       "\n",
       "    .dataframe thead th {\n",
       "        text-align: right;\n",
       "    }\n",
       "</style>\n",
       "<table border=\"1\" class=\"dataframe\">\n",
       "  <thead>\n",
       "    <tr style=\"text-align: right;\">\n",
       "      <th></th>\n",
       "      <th>City Job Title</th>\n",
       "      <th>Application Date</th>\n",
       "    </tr>\n",
       "  </thead>\n",
       "  <tbody>\n",
       "    <tr>\n",
       "      <th>0</th>\n",
       "      <td>311 TELECOMMUNICATIONS OPERATOR (CLASS CODE 7401)</td>\n",
       "      <td>02/16/2018 12:00:00 AM</td>\n",
       "    </tr>\n",
       "    <tr>\n",
       "      <th>1</th>\n",
       "      <td>311 TELECOMMUNICATIONS OPERATOR (CLASS CODE 7401)</td>\n",
       "      <td>02/16/2018 12:00:00 AM</td>\n",
       "    </tr>\n",
       "    <tr>\n",
       "      <th>2</th>\n",
       "      <td>311 TELECOMMUNICATIONS OPERATOR (CLASS CODE 7401)</td>\n",
       "      <td>02/16/2018 12:00:00 AM</td>\n",
       "    </tr>\n",
       "    <tr>\n",
       "      <th>3</th>\n",
       "      <td>311 TELECOMMUNICATIONS OPERATOR (CLASS CODE 7401)</td>\n",
       "      <td>02/16/2018 12:00:00 AM</td>\n",
       "    </tr>\n",
       "    <tr>\n",
       "      <th>4</th>\n",
       "      <td>311 TELECOMMUNICATIONS OPERATOR (CLASS CODE 7401)</td>\n",
       "      <td>02/16/2018 12:00:00 AM</td>\n",
       "    </tr>\n",
       "  </tbody>\n",
       "</table>\n",
       "</div>"
      ],
      "text/plain": [
       "                                      City Job Title        Application Date\n",
       "0  311 TELECOMMUNICATIONS OPERATOR (CLASS CODE 7401)  02/16/2018 12:00:00 AM\n",
       "1  311 TELECOMMUNICATIONS OPERATOR (CLASS CODE 7401)  02/16/2018 12:00:00 AM\n",
       "2  311 TELECOMMUNICATIONS OPERATOR (CLASS CODE 7401)  02/16/2018 12:00:00 AM\n",
       "3  311 TELECOMMUNICATIONS OPERATOR (CLASS CODE 7401)  02/16/2018 12:00:00 AM\n",
       "4  311 TELECOMMUNICATIONS OPERATOR (CLASS CODE 7401)  02/16/2018 12:00:00 AM"
      ]
     },
     "execution_count": 23,
     "metadata": {},
     "output_type": "execute_result"
    }
   ],
   "source": [
    "application_df = pd.read_csv(\"./data/City_Job_Applications_Submitted.csv\")\n",
    "application_df.head()"
   ]
  },
  {
   "cell_type": "markdown",
   "metadata": {},
   "source": [
    " This dataset doesn’t give us much - simply the title of the job applied for and the time of application - but it is considerably larger than the first dataset. We can at least determine which jobs are most frequently applied to at different times of year using this dataset.\n",
    "\t"
   ]
  },
  {
   "cell_type": "markdown",
   "metadata": {},
   "source": [
    "For our collaboration plan, we are primarily using a combination of Github and Zoom meetings. We both have experience using Github to coordinate code in group projects, so we should be able to maintain an organized work environment. We have been meeting over Zoom on Sundays to touch base about work scheduling, but we are both able to have relatively flexible meeting patterns as the semester progresses."
   ]
  },
  {
   "cell_type": "markdown",
   "metadata": {},
   "source": [
    "## Requisition Requests"
   ]
  },
  {
   "cell_type": "markdown",
   "metadata": {},
   "source": [
    "We can also take a look at the city job requisition requests."
   ]
  },
  {
   "cell_type": "code",
   "execution_count": 24,
   "metadata": {},
   "outputs": [
    {
     "data": {
      "text/html": [
       "<div>\n",
       "<style scoped>\n",
       "    .dataframe tbody tr th:only-of-type {\n",
       "        vertical-align: middle;\n",
       "    }\n",
       "\n",
       "    .dataframe tbody tr th {\n",
       "        vertical-align: top;\n",
       "    }\n",
       "\n",
       "    .dataframe thead th {\n",
       "        text-align: right;\n",
       "    }\n",
       "</style>\n",
       "<table border=\"1\" class=\"dataframe\">\n",
       "  <thead>\n",
       "    <tr style=\"text-align: right;\">\n",
       "      <th></th>\n",
       "      <th>Req_Title</th>\n",
       "      <th>Req_Status</th>\n",
       "      <th>Department</th>\n",
       "      <th>Department_Code</th>\n",
       "      <th>Division</th>\n",
       "      <th>Job_Term</th>\n",
       "      <th>Received_Date</th>\n",
       "      <th>Req_Number</th>\n",
       "      <th>Description_Of_Duties_This_Sh</th>\n",
       "    </tr>\n",
       "  </thead>\n",
       "  <tbody>\n",
       "    <tr>\n",
       "      <th>0</th>\n",
       "      <td>Executive Counsel, City Council</td>\n",
       "      <td>Approved</td>\n",
       "      <td>City Council</td>\n",
       "      <td>200</td>\n",
       "      <td>Office of Chief of Staff</td>\n",
       "      <td>Unclassified</td>\n",
       "      <td>01/18/2019 11:38:37 AM</td>\n",
       "      <td>2019-00013</td>\n",
       "      <td>Representing the City Council's interests in l...</td>\n",
       "    </tr>\n",
       "    <tr>\n",
       "      <th>1</th>\n",
       "      <td>OFFICE ASSISTANT I (PROMOTIONAL) (CLASS CODE 0...</td>\n",
       "      <td>Filled</td>\n",
       "      <td>City Council</td>\n",
       "      <td>200</td>\n",
       "      <td>Council Research</td>\n",
       "      <td>Probationary</td>\n",
       "      <td>02/04/2019 10:53:57 AM</td>\n",
       "      <td>2019-00529</td>\n",
       "      <td>Promotion of Mary Hammothe from Office Assista...</td>\n",
       "    </tr>\n",
       "    <tr>\n",
       "      <th>2</th>\n",
       "      <td>Community Relations &amp; Constituent Services Rep.</td>\n",
       "      <td>Approved</td>\n",
       "      <td>City Council</td>\n",
       "      <td>200</td>\n",
       "      <td>Council District D</td>\n",
       "      <td>Unclassified</td>\n",
       "      <td>02/13/2019 10:44:16 AM</td>\n",
       "      <td>2019-00570</td>\n",
       "      <td>The Community Relations &amp; Constituent Services...</td>\n",
       "    </tr>\n",
       "    <tr>\n",
       "      <th>3</th>\n",
       "      <td>Constituent Services and Outreach</td>\n",
       "      <td>Approved</td>\n",
       "      <td>City Council</td>\n",
       "      <td>200</td>\n",
       "      <td>Council District B</td>\n",
       "      <td>Unclassified</td>\n",
       "      <td>02/20/2019 12:29:38 PM</td>\n",
       "      <td>2019-00673</td>\n",
       "      <td>Ms. Brock will be responsible for supporting t...</td>\n",
       "    </tr>\n",
       "    <tr>\n",
       "      <th>4</th>\n",
       "      <td>Legislative Aide</td>\n",
       "      <td>Approved</td>\n",
       "      <td>City Council</td>\n",
       "      <td>200</td>\n",
       "      <td>Council District A</td>\n",
       "      <td>Unclassified</td>\n",
       "      <td>03/04/2019 02:56:05 PM</td>\n",
       "      <td>2019-00745</td>\n",
       "      <td>Legislative Aide working part-time in Council ...</td>\n",
       "    </tr>\n",
       "  </tbody>\n",
       "</table>\n",
       "</div>"
      ],
      "text/plain": [
       "                                           Req_Title Req_Status    Department  \\\n",
       "0                    Executive Counsel, City Council   Approved  City Council   \n",
       "1  OFFICE ASSISTANT I (PROMOTIONAL) (CLASS CODE 0...     Filled  City Council   \n",
       "2    Community Relations & Constituent Services Rep.   Approved  City Council   \n",
       "3                  Constituent Services and Outreach   Approved  City Council   \n",
       "4                                   Legislative Aide   Approved  City Council   \n",
       "\n",
       "  Department_Code                  Division      Job_Term  \\\n",
       "0             200  Office of Chief of Staff  Unclassified   \n",
       "1             200          Council Research  Probationary   \n",
       "2             200        Council District D  Unclassified   \n",
       "3             200        Council District B  Unclassified   \n",
       "4             200        Council District A  Unclassified   \n",
       "\n",
       "            Received_Date  Req_Number  \\\n",
       "0  01/18/2019 11:38:37 AM  2019-00013   \n",
       "1  02/04/2019 10:53:57 AM  2019-00529   \n",
       "2  02/13/2019 10:44:16 AM  2019-00570   \n",
       "3  02/20/2019 12:29:38 PM  2019-00673   \n",
       "4  03/04/2019 02:56:05 PM  2019-00745   \n",
       "\n",
       "                       Description_Of_Duties_This_Sh  \n",
       "0  Representing the City Council's interests in l...  \n",
       "1  Promotion of Mary Hammothe from Office Assista...  \n",
       "2  The Community Relations & Constituent Services...  \n",
       "3  Ms. Brock will be responsible for supporting t...  \n",
       "4  Legislative Aide working part-time in Council ...  "
      ]
     },
     "execution_count": 24,
     "metadata": {},
     "output_type": "execute_result"
    }
   ],
   "source": [
    "req_df = pd.read_csv(\"./data/City_Jobs_Requisition_Requests.csv\")\n",
    "req_df.head()"
   ]
  },
  {
   "cell_type": "markdown",
   "metadata": {},
   "source": [
    "The `Req_Status` variable gives us a good preliminary impression of the demand for city jobs - how often city jobs requests are requested, versus how often they are fulfilled. "
   ]
  },
  {
   "cell_type": "code",
   "execution_count": 25,
   "metadata": {
    "scrolled": true
   },
   "outputs": [
    {
     "data": {
      "text/plain": [
       "<matplotlib.axes._subplots.AxesSubplot at 0x27126f13e20>"
      ]
     },
     "execution_count": 25,
     "metadata": {},
     "output_type": "execute_result"
    },
    {
     "data": {
      "image/png": "[encoded data removed]",
      "text/plain": [
       "<Figure size 432x288 with 1 Axes>"
      ]
     },
     "metadata": {},
     "output_type": "display_data"
    }
   ],
   "source": [
    "req_df['Req_Status'].value_counts().plot.pie()"
   ]
  },
  {
   "cell_type": "markdown",
   "metadata": {},
   "source": [
    "We can map these values numerically to determine which city jobs are most or least likely to be filled. We can consider the values \"Filled\" or \"Approved\" as a full completion of the request (1), and \"On Hold\", \"Open\" or \"Cancelled\" as an incomplete request (0). We can map \"In Progress\" as a partial completion (0.5). We can then take the mean to determine the approximate probability that a request will be fulfilled. "
   ]
  },
  {
   "cell_type": "code",
   "execution_count": 80,
   "metadata": {},
   "outputs": [
    {
     "data": {
      "text/plain": [
       "0.576"
      ]
     },
     "execution_count": 80,
     "metadata": {},
     "output_type": "execute_result"
    }
   ],
   "source": [
    "req_df[\"Req_Status_Num\"] = req_df[\"Req_Status\"].map({\n",
    "       \"Filled\": 1,\n",
    "       \"Approved\": 1,\n",
    "       \"In Progress\": 0.5,\n",
    "       \"Cancelled\": 0,\n",
    "       \"Open\": 0,\n",
    "       \"On Hold\": 0\n",
    "})\n",
    "\n",
    "req_df[\"Req_Status_Num\"].mean()"
   ]
  },
  {
   "cell_type": "markdown",
   "metadata": {},
   "source": [
    "The overall probability that a request will be fulfilled is ~57.6%. Now, we can inspect these probabilities by department."
   ]
  },
  {
   "cell_type": "code",
   "execution_count": 81,
   "metadata": {
    "scrolled": false
   },
   "outputs": [
    {
     "data": {
      "text/plain": [
       "Department\n",
       "Municipal Yacht Harbor                            1.000000\n",
       "Coroner's Office                                  1.000000\n",
       "Historic Districts and Landmarks Commission       1.000000\n",
       "New Orleans Public Library                        1.000000\n",
       "Law Department                                    0.961538\n",
       "Juvenile Court                                    0.916667\n",
       "Sanitation Department                             0.858824\n",
       "Mayor's Office                                    0.855140\n",
       "Vieux Carre Commission                            0.833333\n",
       "Office Of Community Development                   0.833333\n",
       "Parks & Parkways                                  0.802469\n",
       "Clerk of Criminal District Court                  0.800000\n",
       "City Council                                      0.791667\n",
       "Municipal Court                                   0.784314\n",
       "Civil Service Department                          0.767857\n",
       "Health Department                                 0.699367\n",
       "Fire Department                                   0.699248\n",
       "Office of Inspector General                       0.687500\n",
       "Property Management                               0.682927\n",
       "Police Department                                 0.682867\n",
       "Miscellaneous                                     0.663580\n",
       "Finance Department                                0.650000\n",
       "New Orleans Mosquito and Termite Control Board    0.578947\n",
       "Human Services                                    0.561047\n",
       "Office of Independent Police Monitor              0.500000\n",
       "Safety & Permits                                  0.494444\n",
       "Public Works Department                           0.479885\n",
       "Chief Administrative Office                       0.452381\n",
       "City Planning Commission                          0.448276\n",
       "French Market Corporation                         0.444444\n",
       "NOPD                                              0.423077\n",
       "New Orleans Aviation Board                        0.422535\n",
       "Sewerage and Water Board of New Orleans           0.294268\n",
       "Name: Req_Status_Num, dtype: float64"
      ]
     },
     "execution_count": 81,
     "metadata": {},
     "output_type": "execute_result"
    }
   ],
   "source": [
    "req_df.groupby(['Department'])[\"Req_Status_Num\"].mean().sort_values(ascending=False)"
   ]
  },
  {
   "cell_type": "markdown",
   "metadata": {},
   "source": [
    "## New Orleans City Jobs Pay Plan\n"
   ]
  },
  {
   "cell_type": "markdown",
   "metadata": {},
   "source": [
    "<p> The following code is to scrape the data in this PDF document which was retreived through the New Orleans city website. <a href=\"./data/nola_city_jobs_pay_plan.pdf\"> New Orleans City Jobs Pay Plan</a> </p>"
   ]
  },
  {
   "cell_type": "markdown",
   "metadata": {},
   "source": [
    "<p> The PDF was first converted into a text file using this tool: <a href=\"https://www.pdf2go.com/pdf-to-text\"> PDF Converter</a></p>"
   ]
  },
  {
   "cell_type": "code",
   "execution_count": 28,
   "metadata": {},
   "outputs": [],
   "source": [
    "f = open('./data/nola_city_jobs_pay_plan_edited_pay_grade_table.txt', 'r') \n",
    "raw_str = f.read()\n",
    "f.close\n",
    "\n",
    "raw_str = raw_str.replace('\\n\\n', '\\n') #remove empty lines\n",
    "\n",
    "raw_str = raw_str.replace(' ', '') #some numbers have spaces in between them, remove those spaces\n",
    "raw_str = raw_str.replace('.', '') #remove all the decimal point dots to make all numbers consistent (all numbers in the PDF have 2 decimal points, so it can be fixed later)\n",
    "\n",
    "raw_numbers = raw_str.split('\\n') #every line as an element in a list\n",
    "\n",
    "raw_numbers = [element for element in raw_numbers if element.isnumeric()] #remove titles/headers\n",
    "\n",
    "data = {}\n",
    "    \n",
    "first_page_length = 85 - 34 + 1    \n",
    "second_page_length = 135 - 86 + 1\n",
    "\n",
    "for i, entry in enumerate(raw_numbers):\n",
    "    \n",
    "    if i < first_page_length: data.setdefault('Pay Grade', []).append(int(entry))\n",
    "    elif i < 2*first_page_length: data.setdefault('Step 1', []).append(entry)\n",
    "    elif i < 3*first_page_length: data.setdefault('Step 2', []).append(entry)\n",
    "    elif i < 4*first_page_length: data.setdefault('Step 3', []).append(entry)\n",
    "    elif i < 5*first_page_length: data.setdefault('Step 4', []).append(entry)\n",
    "    elif i < 6*first_page_length: data.setdefault('Step 5', []).append(entry)\n",
    "    elif i < 7*first_page_length: data.setdefault('Step 11', []).append(entry)\n",
    "    elif i < 8*first_page_length: data.setdefault('Step 21', []).append(entry)\n",
    "    elif i < 9*first_page_length: data.setdefault('Step 41', []).append(entry)\n",
    "    elif i < 9*first_page_length + second_page_length: data['Pay Grade'].append(int(entry))\n",
    "    elif i < 9*first_page_length + 2*second_page_length: data['Step 1'].append(entry)\n",
    "    elif i < 9*first_page_length + 3*second_page_length: data['Step 2'].append(entry)\n",
    "    elif i < 9*first_page_length + 4*second_page_length: data['Step 3'].append(entry)\n",
    "    elif i < 9*first_page_length + 5*second_page_length: data['Step 4'].append(entry)\n",
    "    elif i < 9*first_page_length + 6*second_page_length: data['Step 5'].append(entry)\n",
    "    elif i < 9*first_page_length + 7*second_page_length: data['Step 11'].append(entry)\n",
    "    elif i < 9*first_page_length + 8*second_page_length: data['Step 21'].append(entry)\n",
    "    elif i < 9*first_page_length + 9*second_page_length: data['Step 41'].append(entry)\n",
    "    \n",
    "length = 135 - 34 + 1\n",
    "\n",
    "for key in data:\n",
    "    if(len(data[key]) != length):\n",
    "        print(\"LENGTHS DON'T MATCH\")\n",
    "        \n",
    "#LENGTHS MATCH!\n",
    "\n",
    "#add decimal points to pay data and convert to float\n",
    "data = {key: [float(elem[:-2] + '.' + elem[-2:]) for elem in data[key]] if key != 'Pay Grade' else data[key] for key in data}"
   ]
  },
  {
   "cell_type": "code",
   "execution_count": 29,
   "metadata": {},
   "outputs": [
    {
     "data": {
      "text/html": [
       "<div>\n",
       "<style scoped>\n",
       "    .dataframe tbody tr th:only-of-type {\n",
       "        vertical-align: middle;\n",
       "    }\n",
       "\n",
       "    .dataframe tbody tr th {\n",
       "        vertical-align: top;\n",
       "    }\n",
       "\n",
       "    .dataframe thead th {\n",
       "        text-align: right;\n",
       "    }\n",
       "</style>\n",
       "<table border=\"1\" class=\"dataframe\">\n",
       "  <thead>\n",
       "    <tr style=\"text-align: right;\">\n",
       "      <th></th>\n",
       "      <th>Pay Grade</th>\n",
       "      <th>Step 1</th>\n",
       "      <th>Step 2</th>\n",
       "      <th>Step 3</th>\n",
       "      <th>Step 4</th>\n",
       "      <th>Step 5</th>\n",
       "      <th>Step 11</th>\n",
       "      <th>Step 21</th>\n",
       "      <th>Step 41</th>\n",
       "    </tr>\n",
       "  </thead>\n",
       "  <tbody>\n",
       "    <tr>\n",
       "      <th>0</th>\n",
       "      <td>34</td>\n",
       "      <td>15909.85</td>\n",
       "      <td>16108.73</td>\n",
       "      <td>16310.09</td>\n",
       "      <td>16513.96</td>\n",
       "      <td>16720.39</td>\n",
       "      <td>18014.26</td>\n",
       "      <td>20397.03</td>\n",
       "      <td>26149.75</td>\n",
       "    </tr>\n",
       "    <tr>\n",
       "      <th>1</th>\n",
       "      <td>35</td>\n",
       "      <td>16310.09</td>\n",
       "      <td>16513.96</td>\n",
       "      <td>16720.39</td>\n",
       "      <td>16929.39</td>\n",
       "      <td>17141.01</td>\n",
       "      <td>18467.44</td>\n",
       "      <td>20910.14</td>\n",
       "      <td>26807.58</td>\n",
       "    </tr>\n",
       "    <tr>\n",
       "      <th>2</th>\n",
       "      <td>36</td>\n",
       "      <td>16720.39</td>\n",
       "      <td>16929.39</td>\n",
       "      <td>17141.01</td>\n",
       "      <td>17355.27</td>\n",
       "      <td>17572.21</td>\n",
       "      <td>18932.01</td>\n",
       "      <td>21436.16</td>\n",
       "      <td>27481.95</td>\n",
       "    </tr>\n",
       "    <tr>\n",
       "      <th>3</th>\n",
       "      <td>37</td>\n",
       "      <td>17141.01</td>\n",
       "      <td>17355.27</td>\n",
       "      <td>17572.21</td>\n",
       "      <td>17791.87</td>\n",
       "      <td>18014.26</td>\n",
       "      <td>19408.26</td>\n",
       "      <td>21975.41</td>\n",
       "      <td>28173.30</td>\n",
       "    </tr>\n",
       "    <tr>\n",
       "      <th>4</th>\n",
       "      <td>38</td>\n",
       "      <td>17572.21</td>\n",
       "      <td>17791.87</td>\n",
       "      <td>18014.26</td>\n",
       "      <td>18239.44</td>\n",
       "      <td>18467.44</td>\n",
       "      <td>19896.50</td>\n",
       "      <td>22528.23</td>\n",
       "      <td>28882.03</td>\n",
       "    </tr>\n",
       "    <tr>\n",
       "      <th>...</th>\n",
       "      <td>...</td>\n",
       "      <td>...</td>\n",
       "      <td>...</td>\n",
       "      <td>...</td>\n",
       "      <td>...</td>\n",
       "      <td>...</td>\n",
       "      <td>...</td>\n",
       "      <td>...</td>\n",
       "      <td>...</td>\n",
       "    </tr>\n",
       "    <tr>\n",
       "      <th>97</th>\n",
       "      <td>131</td>\n",
       "      <td>177134.19</td>\n",
       "      <td>179348.36</td>\n",
       "      <td>181590.22</td>\n",
       "      <td>183860.09</td>\n",
       "      <td>186158.35</td>\n",
       "      <td>200563.87</td>\n",
       "      <td>227092.62</td>\n",
       "      <td>291141.19</td>\n",
       "    </tr>\n",
       "    <tr>\n",
       "      <th>98</th>\n",
       "      <td>132</td>\n",
       "      <td>181590.22</td>\n",
       "      <td>183860.09</td>\n",
       "      <td>186158.35</td>\n",
       "      <td>188485.33</td>\n",
       "      <td>190841.39</td>\n",
       "      <td>205609.31</td>\n",
       "      <td>232805.42</td>\n",
       "      <td>298465.21</td>\n",
       "    </tr>\n",
       "    <tr>\n",
       "      <th>99</th>\n",
       "      <td>133</td>\n",
       "      <td>186158.35</td>\n",
       "      <td>188485.33</td>\n",
       "      <td>190841.39</td>\n",
       "      <td>193226.91</td>\n",
       "      <td>195642.25</td>\n",
       "      <td>210781.66</td>\n",
       "      <td>238661.93</td>\n",
       "      <td>305973.48</td>\n",
       "    </tr>\n",
       "    <tr>\n",
       "      <th>100</th>\n",
       "      <td>134</td>\n",
       "      <td>190841.39</td>\n",
       "      <td>193226.91</td>\n",
       "      <td>195642.25</td>\n",
       "      <td>198087.77</td>\n",
       "      <td>200563.87</td>\n",
       "      <td>216084.14</td>\n",
       "      <td>244665.77</td>\n",
       "      <td>313670.63</td>\n",
       "    </tr>\n",
       "    <tr>\n",
       "      <th>101</th>\n",
       "      <td>135</td>\n",
       "      <td>195642.25</td>\n",
       "      <td>198087.77</td>\n",
       "      <td>200563.87</td>\n",
       "      <td>203070.92</td>\n",
       "      <td>205609.31</td>\n",
       "      <td>221520.01</td>\n",
       "      <td>250820.64</td>\n",
       "      <td>321561.40</td>\n",
       "    </tr>\n",
       "  </tbody>\n",
       "</table>\n",
       "<p>102 rows × 9 columns</p>\n",
       "</div>"
      ],
      "text/plain": [
       "     Pay Grade     Step 1     Step 2     Step 3     Step 4     Step 5  \\\n",
       "0           34   15909.85   16108.73   16310.09   16513.96   16720.39   \n",
       "1           35   16310.09   16513.96   16720.39   16929.39   17141.01   \n",
       "2           36   16720.39   16929.39   17141.01   17355.27   17572.21   \n",
       "3           37   17141.01   17355.27   17572.21   17791.87   18014.26   \n",
       "4           38   17572.21   17791.87   18014.26   18239.44   18467.44   \n",
       "..         ...        ...        ...        ...        ...        ...   \n",
       "97         131  177134.19  179348.36  181590.22  183860.09  186158.35   \n",
       "98         132  181590.22  183860.09  186158.35  188485.33  190841.39   \n",
       "99         133  186158.35  188485.33  190841.39  193226.91  195642.25   \n",
       "100        134  190841.39  193226.91  195642.25  198087.77  200563.87   \n",
       "101        135  195642.25  198087.77  200563.87  203070.92  205609.31   \n",
       "\n",
       "       Step 11    Step 21    Step 41  \n",
       "0     18014.26   20397.03   26149.75  \n",
       "1     18467.44   20910.14   26807.58  \n",
       "2     18932.01   21436.16   27481.95  \n",
       "3     19408.26   21975.41   28173.30  \n",
       "4     19896.50   22528.23   28882.03  \n",
       "..         ...        ...        ...  \n",
       "97   200563.87  227092.62  291141.19  \n",
       "98   205609.31  232805.42  298465.21  \n",
       "99   210781.66  238661.93  305973.48  \n",
       "100  216084.14  244665.77  313670.63  \n",
       "101  221520.01  250820.64  321561.40  \n",
       "\n",
       "[102 rows x 9 columns]"
      ]
     },
     "execution_count": 29,
     "metadata": {},
     "output_type": "execute_result"
    }
   ],
   "source": [
    "pay_grades_df = pd.DataFrame(data)\n",
    "pay_grades_df"
   ]
  },
  {
   "cell_type": "markdown",
   "metadata": {},
   "source": [
    "This data shows the: \n",
    "<ul>\n",
    "    <li>minimum (Step 1)</li>\n",
    "    <li>2nd quartile (Step 11)</li>\n",
    "    <li>midpoint (Step 21)</li>\n",
    "    <li>maximum (Step 41)</li>\n",
    "</ul>\n",
    "\n",
    "salaries for the corresponding pay grades"
   ]
  },
  {
   "cell_type": "markdown",
   "metadata": {},
   "source": [
    "This <a href=\"https://www.utdallas.edu/hr/compensation/standards/#:~:text=Second%20Quartile%3A%20The%20second%20quartile,experienced%20employee%20at%20that%20level.\"> UT Dallas </a> source helps us understand how salary quartiles work:"
   ]
  },
  {
   "cell_type": "markdown",
   "metadata": {},
   "source": [
    "<img src=\"./src/salary_ranges_and_quartiles.png\"/>"
   ]
  },
  {
   "cell_type": "markdown",
   "metadata": {},
   "source": [
    "The following code is to scrape the rows that map city positions to min and max pay ranges in the <a href=\"./data/nola_city_jobs_pay_plan.pdf\">PDF</a>"
   ]
  },
  {
   "cell_type": "code",
   "execution_count": 30,
   "metadata": {},
   "outputs": [],
   "source": [
    "f = open('./data/nola_city_jobs_pay_plan_edited_positions_to_pay.txt', 'r') \n",
    "raw_str = f.read()\n",
    "f.close\n",
    "\n",
    "raw_str = raw_str.replace('\\x0c', '') #remove the weirdly encoded characters\n",
    "raw_str = raw_str.replace('\\n\\n', '\\n') #remove empty rows\n",
    "\n",
    "#characters to filter in\n",
    "characters = list(string.ascii_uppercase) + list(string.ascii_lowercase) + list(string.digits) + [' ', ',', '(', ')', '\\n']\n",
    "\n",
    "#filter out all the characters that are not in the 'characters' list\n",
    "raw_str = ''.join([character for character in raw_str if character in characters])\n",
    "\n",
    "rows = raw_str.split('\\n')\n",
    "rows\n",
    "\n",
    "data = []\n",
    "\n",
    "for row in rows:\n",
    "    line = row.strip()\n",
    "\n",
    "    cleaned_row  = []\n",
    "    elements = line.split(' ')\n",
    "    elements = [element for element in elements if element != '']\n",
    "    #print(elements)\n",
    "    \n",
    "    if len(elements) < 5: continue\n",
    "    \n",
    "    \n",
    "    \n",
    "    \n",
    "    elem = elements.pop(0)\n",
    "\n",
    "    if elem == 'EX':\n",
    "        cleaned_row.append('EX')\n",
    "        elem = elements.pop(0)\n",
    "    else:\n",
    "        cleaned_row.append(np.nan)\n",
    "\n",
    "    if elem[0] == '(':\n",
    "        cleaned_row.append(elem[1])\n",
    "        elem = elements.pop(0)\n",
    "    else:\n",
    "        cleaned_row.append(np.nan)\n",
    "\n",
    "    if elem[0] == 'C' or (len(elem) > 1 and elem[1].isnumeric()):\n",
    "        cleaned_row.append(elem)\n",
    "    else:\n",
    "        cleaned_row.append(np.nan)\n",
    "\n",
    "        \n",
    "    if cleaned_row == [np.nan, np.nan, np.nan]: continue\n",
    "    \n",
    "    \n",
    "    \n",
    "    position = ''\n",
    "    \n",
    "    elem = elements.pop(0)\n",
    "    while (not elem.isnumeric() or elem == '311' or elem == '911') and not elem =='Y':\n",
    "        position += elem + ' '\n",
    "        elem = elements.pop(0)\n",
    "    \n",
    "    cleaned_row.append(position.strip())\n",
    "    \n",
    "    if elem == 'Y':\n",
    "        cleaned_row.append(True)\n",
    "    elif elem.isnumeric():\n",
    "        cleaned_row.append(False)\n",
    "        cleaned_row.append(elem)\n",
    "    \n",
    "    cleaned_row += elements\n",
    "        \n",
    "    data.append(cleaned_row)\n",
    "        \n",
    "data = [row for row in data if len(row) == 10]\n",
    "\n",
    "for row in data:\n",
    "    \n",
    "    row[6] = row[6].replace('(', '')\n",
    "    row[6] = row[6].replace(')', '')\n",
    "    row[9] = row[9].replace('(', '')\n",
    "    row[9] = row[9].replace(')', '')\n",
    "    \n",
    "    row[6] = float(row[6].replace(',', ''))\n",
    "    row[7] = float(row[7].replace(',', ''))\n",
    "    try:\n",
    "        row[9] = float(row[9].replace(',', ''))\n",
    "    except ValueError:\n",
    "        row[9] = np.nan\n"
   ]
  },
  {
   "cell_type": "code",
   "execution_count": 31,
   "metadata": {},
   "outputs": [
    {
     "data": {
      "text/html": [
       "<div>\n",
       "<style scoped>\n",
       "    .dataframe tbody tr th:only-of-type {\n",
       "        vertical-align: middle;\n",
       "    }\n",
       "\n",
       "    .dataframe tbody tr th {\n",
       "        vertical-align: top;\n",
       "    }\n",
       "\n",
       "    .dataframe thead th {\n",
       "        text-align: right;\n",
       "    }\n",
       "</style>\n",
       "<table border=\"1\" class=\"dataframe\">\n",
       "  <thead>\n",
       "    <tr style=\"text-align: right;\">\n",
       "      <th></th>\n",
       "      <th>EAP</th>\n",
       "      <th>OC</th>\n",
       "      <th>Code</th>\n",
       "      <th>Position Class</th>\n",
       "      <th>EQP</th>\n",
       "      <th>Grade</th>\n",
       "      <th>Min</th>\n",
       "      <th>Max</th>\n",
       "      <th>Step</th>\n",
       "      <th>Rate</th>\n",
       "    </tr>\n",
       "  </thead>\n",
       "  <tbody>\n",
       "    <tr>\n",
       "      <th>0</th>\n",
       "      <td>NaN</td>\n",
       "      <td>NaN</td>\n",
       "      <td>C7401</td>\n",
       "      <td>311 TELECOMMUNICATIONS OPERATOR</td>\n",
       "      <td>False</td>\n",
       "      <td>50</td>\n",
       "      <td>23675.0</td>\n",
       "      <td>38914.0</td>\n",
       "      <td>09</td>\n",
       "      <td>26149.0</td>\n",
       "    </tr>\n",
       "    <tr>\n",
       "      <th>1</th>\n",
       "      <td>NaN</td>\n",
       "      <td>NaN</td>\n",
       "      <td>C7406</td>\n",
       "      <td>311 TELECOMMUNICATIONS OPERATOR, DIVISION MANAGER</td>\n",
       "      <td>False</td>\n",
       "      <td>1</td>\n",
       "      <td>39893.0</td>\n",
       "      <td>65569.0</td>\n",
       "      <td>09</td>\n",
       "      <td>44061.0</td>\n",
       "    </tr>\n",
       "    <tr>\n",
       "      <th>2</th>\n",
       "      <td>NaN</td>\n",
       "      <td>NaN</td>\n",
       "      <td>C7405</td>\n",
       "      <td>311 TELECOMMUNICATIONS OPERATOR, PRINCIPAL</td>\n",
       "      <td>False</td>\n",
       "      <td>61</td>\n",
       "      <td>31117.0</td>\n",
       "      <td>51144.0</td>\n",
       "      <td>09</td>\n",
       "      <td>34368.0</td>\n",
       "    </tr>\n",
       "    <tr>\n",
       "      <th>3</th>\n",
       "      <td>NaN</td>\n",
       "      <td>NaN</td>\n",
       "      <td>C7402</td>\n",
       "      <td>311 TELECOMMUNICATIONS OPERATOR, SENIOR</td>\n",
       "      <td>False</td>\n",
       "      <td>56</td>\n",
       "      <td>27481.0</td>\n",
       "      <td>45169.0</td>\n",
       "      <td>09</td>\n",
       "      <td>30353.0</td>\n",
       "    </tr>\n",
       "    <tr>\n",
       "      <th>4</th>\n",
       "      <td>NaN</td>\n",
       "      <td>NaN</td>\n",
       "      <td>C7403</td>\n",
       "      <td>311 TELECOMMUNICATIONS OPERATOR, SUPERVISOR</td>\n",
       "      <td>False</td>\n",
       "      <td>67</td>\n",
       "      <td>36119.0</td>\n",
       "      <td>59366.0</td>\n",
       "      <td>09</td>\n",
       "      <td>39893.0</td>\n",
       "    </tr>\n",
       "  </tbody>\n",
       "</table>\n",
       "</div>"
      ],
      "text/plain": [
       "   EAP   OC   Code                                     Position Class    EQP  \\\n",
       "0  NaN  NaN  C7401                    311 TELECOMMUNICATIONS OPERATOR  False   \n",
       "1  NaN  NaN  C7406  311 TELECOMMUNICATIONS OPERATOR, DIVISION MANAGER  False   \n",
       "2  NaN  NaN  C7405         311 TELECOMMUNICATIONS OPERATOR, PRINCIPAL  False   \n",
       "3  NaN  NaN  C7402            311 TELECOMMUNICATIONS OPERATOR, SENIOR  False   \n",
       "4  NaN  NaN  C7403        311 TELECOMMUNICATIONS OPERATOR, SUPERVISOR  False   \n",
       "\n",
       "  Grade      Min      Max Step     Rate  \n",
       "0    50  23675.0  38914.0   09  26149.0  \n",
       "1     1  39893.0  65569.0   09  44061.0  \n",
       "2    61  31117.0  51144.0   09  34368.0  \n",
       "3    56  27481.0  45169.0   09  30353.0  \n",
       "4    67  36119.0  59366.0   09  39893.0  "
      ]
     },
     "execution_count": 31,
     "metadata": {},
     "output_type": "execute_result"
    }
   ],
   "source": [
    "positions_to_pay_df = pd.DataFrame(data, columns=[\n",
    "    'EAP', 'OC', 'Code', 'Position Class', 'EQP', 'Grade', 'Min', 'Max', 'Step', 'Rate'\n",
    "])\n",
    "positions_to_pay_df.head()"
   ]
  },
  {
   "cell_type": "markdown",
   "metadata": {},
   "source": [
    "A few values were scraped incorrectly, so we can manually fix them."
   ]
  },
  {
   "cell_type": "code",
   "execution_count": 32,
   "metadata": {},
   "outputs": [],
   "source": [
    "positions_to_pay_df.at[158, \"Max\"]= 97575.0\n",
    "positions_to_pay_df.at[321, \"Max\"]= 79987.0\n",
    "positions_to_pay_df.at[324, \"Max\"]= 78024.0\n",
    "positions_to_pay_df.at[325, \"Max\"]= 70643.0\n",
    "positions_to_pay_df.at[335, \"Max\"]= 78024.0\n",
    "positions_to_pay_df.at[359, \"Max\"]= 72420.0\n",
    "positions_to_pay_df.at[363, \"Min\"]= 56488.0\n",
    "positions_to_pay_df.at[367, \"Min\"]= 52431.0\n",
    "positions_to_pay_df.at[369, \"Min\"]= 55102.0\n",
    "positions_to_pay_df.at[377, \"Min\"]= 57909.0\n",
    "positions_to_pay_df.at[383, \"Min\"]= 52431.0\n",
    "positions_to_pay_df.at[384, \"Min\"]= 55102.0\n",
    "positions_to_pay_df.at[388, \"Min\"]= 52431.0\n",
    "positions_to_pay_df.at[395, \"Min\"]= 59366.0\n",
    "positions_to_pay_df.at[396, \"Min\"]= 53750.0\n",
    "positions_to_pay_df.at[400, \"Min\"]= 59366.0"
   ]
  },
  {
   "cell_type": "code",
   "execution_count": 33,
   "metadata": {},
   "outputs": [
    {
     "data": {
      "text/html": [
       "<div>\n",
       "<style scoped>\n",
       "    .dataframe tbody tr th:only-of-type {\n",
       "        vertical-align: middle;\n",
       "    }\n",
       "\n",
       "    .dataframe tbody tr th {\n",
       "        vertical-align: top;\n",
       "    }\n",
       "\n",
       "    .dataframe thead th {\n",
       "        text-align: right;\n",
       "    }\n",
       "</style>\n",
       "<table border=\"1\" class=\"dataframe\">\n",
       "  <thead>\n",
       "    <tr style=\"text-align: right;\">\n",
       "      <th></th>\n",
       "      <th>EAP</th>\n",
       "      <th>OC</th>\n",
       "      <th>Code</th>\n",
       "      <th>Position Class</th>\n",
       "      <th>EQP</th>\n",
       "      <th>Grade</th>\n",
       "      <th>Min</th>\n",
       "      <th>Max</th>\n",
       "      <th>Step</th>\n",
       "      <th>Rate</th>\n",
       "      <th>Range</th>\n",
       "    </tr>\n",
       "  </thead>\n",
       "  <tbody>\n",
       "    <tr>\n",
       "      <th>0</th>\n",
       "      <td>NaN</td>\n",
       "      <td>NaN</td>\n",
       "      <td>C7401</td>\n",
       "      <td>311 TELECOMMUNICATIONS OPERATOR</td>\n",
       "      <td>False</td>\n",
       "      <td>50</td>\n",
       "      <td>23675.0</td>\n",
       "      <td>38914.0</td>\n",
       "      <td>09</td>\n",
       "      <td>26149.0</td>\n",
       "      <td>15239.0</td>\n",
       "    </tr>\n",
       "    <tr>\n",
       "      <th>1</th>\n",
       "      <td>NaN</td>\n",
       "      <td>NaN</td>\n",
       "      <td>C7406</td>\n",
       "      <td>311 TELECOMMUNICATIONS OPERATOR, DIVISION MANAGER</td>\n",
       "      <td>False</td>\n",
       "      <td>1</td>\n",
       "      <td>39893.0</td>\n",
       "      <td>65569.0</td>\n",
       "      <td>09</td>\n",
       "      <td>44061.0</td>\n",
       "      <td>25676.0</td>\n",
       "    </tr>\n",
       "    <tr>\n",
       "      <th>2</th>\n",
       "      <td>NaN</td>\n",
       "      <td>NaN</td>\n",
       "      <td>C7405</td>\n",
       "      <td>311 TELECOMMUNICATIONS OPERATOR, PRINCIPAL</td>\n",
       "      <td>False</td>\n",
       "      <td>61</td>\n",
       "      <td>31117.0</td>\n",
       "      <td>51144.0</td>\n",
       "      <td>09</td>\n",
       "      <td>34368.0</td>\n",
       "      <td>20027.0</td>\n",
       "    </tr>\n",
       "    <tr>\n",
       "      <th>3</th>\n",
       "      <td>NaN</td>\n",
       "      <td>NaN</td>\n",
       "      <td>C7402</td>\n",
       "      <td>311 TELECOMMUNICATIONS OPERATOR, SENIOR</td>\n",
       "      <td>False</td>\n",
       "      <td>56</td>\n",
       "      <td>27481.0</td>\n",
       "      <td>45169.0</td>\n",
       "      <td>09</td>\n",
       "      <td>30353.0</td>\n",
       "      <td>17688.0</td>\n",
       "    </tr>\n",
       "    <tr>\n",
       "      <th>4</th>\n",
       "      <td>NaN</td>\n",
       "      <td>NaN</td>\n",
       "      <td>C7403</td>\n",
       "      <td>311 TELECOMMUNICATIONS OPERATOR, SUPERVISOR</td>\n",
       "      <td>False</td>\n",
       "      <td>67</td>\n",
       "      <td>36119.0</td>\n",
       "      <td>59366.0</td>\n",
       "      <td>09</td>\n",
       "      <td>39893.0</td>\n",
       "      <td>23247.0</td>\n",
       "    </tr>\n",
       "    <tr>\n",
       "      <th>...</th>\n",
       "      <td>...</td>\n",
       "      <td>...</td>\n",
       "      <td>...</td>\n",
       "      <td>...</td>\n",
       "      <td>...</td>\n",
       "      <td>...</td>\n",
       "      <td>...</td>\n",
       "      <td>...</td>\n",
       "      <td>...</td>\n",
       "      <td>...</td>\n",
       "      <td>...</td>\n",
       "    </tr>\n",
       "    <tr>\n",
       "      <th>657</th>\n",
       "      <td>NaN</td>\n",
       "      <td>2</td>\n",
       "      <td>8307</td>\n",
       "      <td>NETWORKS QUALITY ASSURANCE AND SAFETY INSPECTOR</td>\n",
       "      <td>False</td>\n",
       "      <td>73</td>\n",
       "      <td>41925.0</td>\n",
       "      <td>68909.0</td>\n",
       "      <td>13</td>\n",
       "      <td>48665.0</td>\n",
       "      <td>26984.0</td>\n",
       "    </tr>\n",
       "    <tr>\n",
       "      <th>658</th>\n",
       "      <td>NaN</td>\n",
       "      <td>7</td>\n",
       "      <td>3303</td>\n",
       "      <td>NETWORKS SENIOR MAINTENANCE TECHNICIAN</td>\n",
       "      <td>False</td>\n",
       "      <td>59</td>\n",
       "      <td>29608.0</td>\n",
       "      <td>48665.0</td>\n",
       "      <td>10</td>\n",
       "      <td>33111.0</td>\n",
       "      <td>19057.0</td>\n",
       "    </tr>\n",
       "    <tr>\n",
       "      <th>659</th>\n",
       "      <td>NaN</td>\n",
       "      <td>7</td>\n",
       "      <td>3304</td>\n",
       "      <td>NETWORKS SENIOR MAINTENANCE TECHNICIAN II</td>\n",
       "      <td>False</td>\n",
       "      <td>63</td>\n",
       "      <td>32702.0</td>\n",
       "      <td>53750.0</td>\n",
       "      <td>10</td>\n",
       "      <td>36570.0</td>\n",
       "      <td>21048.0</td>\n",
       "    </tr>\n",
       "    <tr>\n",
       "      <th>660</th>\n",
       "      <td>EX</td>\n",
       "      <td>1</td>\n",
       "      <td>3309</td>\n",
       "      <td>NETWORKS ZONE MANAGER</td>\n",
       "      <td>False</td>\n",
       "      <td>81</td>\n",
       "      <td>51144.0</td>\n",
       "      <td>84062.0</td>\n",
       "      <td>09</td>\n",
       "      <td>56488.0</td>\n",
       "      <td>32918.0</td>\n",
       "    </tr>\n",
       "    <tr>\n",
       "      <th>661</th>\n",
       "      <td>EX</td>\n",
       "      <td>1</td>\n",
       "      <td>C3310</td>\n",
       "      <td>NETWORKS SENIOR ZONE MANAGER</td>\n",
       "      <td>False</td>\n",
       "      <td>85</td>\n",
       "      <td>56488.0</td>\n",
       "      <td>160110.0</td>\n",
       "      <td>09</td>\n",
       "      <td>62390.0</td>\n",
       "      <td>103622.0</td>\n",
       "    </tr>\n",
       "  </tbody>\n",
       "</table>\n",
       "<p>662 rows × 11 columns</p>\n",
       "</div>"
      ],
      "text/plain": [
       "     EAP   OC   Code                                     Position Class  \\\n",
       "0    NaN  NaN  C7401                    311 TELECOMMUNICATIONS OPERATOR   \n",
       "1    NaN  NaN  C7406  311 TELECOMMUNICATIONS OPERATOR, DIVISION MANAGER   \n",
       "2    NaN  NaN  C7405         311 TELECOMMUNICATIONS OPERATOR, PRINCIPAL   \n",
       "3    NaN  NaN  C7402            311 TELECOMMUNICATIONS OPERATOR, SENIOR   \n",
       "4    NaN  NaN  C7403        311 TELECOMMUNICATIONS OPERATOR, SUPERVISOR   \n",
       "..   ...  ...    ...                                                ...   \n",
       "657  NaN    2   8307    NETWORKS QUALITY ASSURANCE AND SAFETY INSPECTOR   \n",
       "658  NaN    7   3303             NETWORKS SENIOR MAINTENANCE TECHNICIAN   \n",
       "659  NaN    7   3304          NETWORKS SENIOR MAINTENANCE TECHNICIAN II   \n",
       "660   EX    1   3309                              NETWORKS ZONE MANAGER   \n",
       "661   EX    1  C3310                       NETWORKS SENIOR ZONE MANAGER   \n",
       "\n",
       "       EQP Grade      Min       Max Step     Rate     Range  \n",
       "0    False    50  23675.0   38914.0   09  26149.0   15239.0  \n",
       "1    False     1  39893.0   65569.0   09  44061.0   25676.0  \n",
       "2    False    61  31117.0   51144.0   09  34368.0   20027.0  \n",
       "3    False    56  27481.0   45169.0   09  30353.0   17688.0  \n",
       "4    False    67  36119.0   59366.0   09  39893.0   23247.0  \n",
       "..     ...   ...      ...       ...  ...      ...       ...  \n",
       "657  False    73  41925.0   68909.0   13  48665.0   26984.0  \n",
       "658  False    59  29608.0   48665.0   10  33111.0   19057.0  \n",
       "659  False    63  32702.0   53750.0   10  36570.0   21048.0  \n",
       "660  False    81  51144.0   84062.0   09  56488.0   32918.0  \n",
       "661  False    85  56488.0  160110.0   09  62390.0  103622.0  \n",
       "\n",
       "[662 rows x 11 columns]"
      ]
     },
     "execution_count": 33,
     "metadata": {},
     "output_type": "execute_result"
    }
   ],
   "source": [
    "positions_to_pay_df['Range'] = positions_to_pay_df['Max'] -positions_to_pay_df['Min']\n",
    "positions_to_pay_df"
   ]
  },
  {
   "cell_type": "markdown",
   "metadata": {},
   "source": [
    "<ul>\n",
    "    <li><strong>EAP</strong>: \"EX\" to indicate which classifications are exempt from the FLSA regulations on overtime</li>\n",
    "    <li><strong>OC</strong>:  Occupational code as defined by the Federal Equal Employment Opportunity Commission</li>\n",
    "    <li><strong>Code</strong>: Code for position class</li>\n",
    "    <li><strong>Position Class</strong>: Description of job title</li>\n",
    "    <li><strong>EQP</strong>:  Indicates positions where employees have been hired at a rate above the base rate</li>\n",
    "    <li><strong>Grade</strong>: Pay grade (the corresponding pay grade in the <strong>pay_grades_df</strong> table)</li>\n",
    "    <li><strong>Min</strong>: Minimum salary for position</li>\n",
    "    <li><strong>Max</strong>: Maximum salary for position</li>\n",
    "    <li><strong>Step</strong>: Pay grade step (the corresponding step in the <strong>pay_grades_df</strong> table)</li>\n",
    "    <li><strong>Rate</strong>: Hiring rate (salary to which an employee is assigned upon entering the job)</li>\n",
    "</ul>"
   ]
  },
  {
   "cell_type": "code",
   "execution_count": 34,
   "metadata": {},
   "outputs": [
    {
     "data": {
      "text/plain": [
       "EAP                object\n",
       "OC                 object\n",
       "Code               object\n",
       "Position Class     object\n",
       "EQP                  bool\n",
       "Grade              object\n",
       "Min               float64\n",
       "Max               float64\n",
       "Step               object\n",
       "Rate              float64\n",
       "Range             float64\n",
       "dtype: object"
      ]
     },
     "execution_count": 34,
     "metadata": {},
     "output_type": "execute_result"
    }
   ],
   "source": [
    "positions_to_pay_df.dtypes"
   ]
  },
  {
   "cell_type": "markdown",
   "metadata": {},
   "source": [
    "The histogram below shows the distribution of the hiring rates of city jobs. Hiring rate is the salary at which an employee is first hired for the position). We can see that it's highly skewed to the right, which is expected."
   ]
  },
  {
   "cell_type": "code",
   "execution_count": 35,
   "metadata": {},
   "outputs": [
    {
     "data": {
      "text/plain": [
       "array([[<matplotlib.axes._subplots.AxesSubplot object at 0x00000271271E9F70>]],\n",
       "      dtype=object)"
      ]
     },
     "execution_count": 35,
     "metadata": {},
     "output_type": "execute_result"
    },
    {
     "data": {
      "image/png": "[encoded data removed]",
      "text/plain": [
       "<Figure size 432x288 with 1 Axes>"
      ]
     },
     "metadata": {
      "needs_background": "light"
     },
     "output_type": "display_data"
    }
   ],
   "source": [
    "positions_to_pay_df.hist('Rate', bins=10)"
   ]
  },
  {
   "cell_type": "code",
   "execution_count": 36,
   "metadata": {},
   "outputs": [
    {
     "data": {
      "text/html": [
       "<div>\n",
       "<style scoped>\n",
       "    .dataframe tbody tr th:only-of-type {\n",
       "        vertical-align: middle;\n",
       "    }\n",
       "\n",
       "    .dataframe tbody tr th {\n",
       "        vertical-align: top;\n",
       "    }\n",
       "\n",
       "    .dataframe thead th {\n",
       "        text-align: right;\n",
       "    }\n",
       "</style>\n",
       "<table border=\"1\" class=\"dataframe\">\n",
       "  <thead>\n",
       "    <tr style=\"text-align: right;\">\n",
       "      <th></th>\n",
       "      <th>Min</th>\n",
       "      <th>Max</th>\n",
       "      <th>Rate</th>\n",
       "    </tr>\n",
       "  </thead>\n",
       "  <tbody>\n",
       "    <tr>\n",
       "      <th>count</th>\n",
       "      <td>662.000000</td>\n",
       "      <td>662.000000</td>\n",
       "      <td>614.000000</td>\n",
       "    </tr>\n",
       "    <tr>\n",
       "      <th>mean</th>\n",
       "      <td>44513.821752</td>\n",
       "      <td>73578.504532</td>\n",
       "      <td>51238.956026</td>\n",
       "    </tr>\n",
       "    <tr>\n",
       "      <th>std</th>\n",
       "      <td>19693.719206</td>\n",
       "      <td>32106.099653</td>\n",
       "      <td>22865.071056</td>\n",
       "    </tr>\n",
       "    <tr>\n",
       "      <th>min</th>\n",
       "      <td>3232.000000</td>\n",
       "      <td>27481.000000</td>\n",
       "      <td>20397.000000</td>\n",
       "    </tr>\n",
       "    <tr>\n",
       "      <th>25%</th>\n",
       "      <td>30353.000000</td>\n",
       "      <td>50202.750000</td>\n",
       "      <td>34368.000000</td>\n",
       "    </tr>\n",
       "    <tr>\n",
       "      <th>50%</th>\n",
       "      <td>39893.000000</td>\n",
       "      <td>65569.000000</td>\n",
       "      <td>45169.000000</td>\n",
       "    </tr>\n",
       "    <tr>\n",
       "      <th>75%</th>\n",
       "      <td>55102.000000</td>\n",
       "      <td>90567.000000</td>\n",
       "      <td>63960.000000</td>\n",
       "    </tr>\n",
       "    <tr>\n",
       "      <th>max</th>\n",
       "      <td>128242.000000</td>\n",
       "      <td>210781.000000</td>\n",
       "      <td>152602.000000</td>\n",
       "    </tr>\n",
       "  </tbody>\n",
       "</table>\n",
       "</div>"
      ],
      "text/plain": [
       "                 Min            Max           Rate\n",
       "count     662.000000     662.000000     614.000000\n",
       "mean    44513.821752   73578.504532   51238.956026\n",
       "std     19693.719206   32106.099653   22865.071056\n",
       "min      3232.000000   27481.000000   20397.000000\n",
       "25%     30353.000000   50202.750000   34368.000000\n",
       "50%     39893.000000   65569.000000   45169.000000\n",
       "75%     55102.000000   90567.000000   63960.000000\n",
       "max    128242.000000  210781.000000  152602.000000"
      ]
     },
     "execution_count": 36,
     "metadata": {},
     "output_type": "execute_result"
    }
   ],
   "source": [
    "positions_to_pay_df[['Min', 'Max', 'Rate']].describe()"
   ]
  },
  {
   "cell_type": "markdown",
   "metadata": {},
   "source": [
    "## Correlating Applications and Pay Rate"
   ]
  },
  {
   "cell_type": "markdown",
   "metadata": {},
   "source": [
    "Using the data we have now loaded in, we can draw some conclusions about how application rate compares to salary. First, we must extract the class codes from the application dataset."
   ]
  },
  {
   "cell_type": "code",
   "execution_count": 37,
   "metadata": {
    "scrolled": true
   },
   "outputs": [
    {
     "data": {
      "text/plain": [
       "        10830\n",
       "7109     2820\n",
       "0032     2462\n",
       "3140     2288\n",
       "8310     1939\n",
       "        ...  \n",
       "2241        1\n",
       "2221        1\n",
       "2211        1\n",
       "4408        1\n",
       "7132        1\n",
       "Name: Code, Length: 448, dtype: int64"
      ]
     },
     "execution_count": 37,
     "metadata": {},
     "output_type": "execute_result"
    }
   ],
   "source": [
    "application_df['Code'] = application_df[\"City Job Title\"].str.replace(\"[^\\d]\", \"\", regex=True)\n",
    "application_df['Code'] = application_df.Code.apply(lambda x: x[-4:])\n",
    "application_df['City Job Title'] = application_df['City Job Title'].apply(lambda x: x.split(\" (\")[0])\n",
    "\n",
    "application_df['Code'].value_counts()"
   ]
  },
  {
   "cell_type": "markdown",
   "metadata": {},
   "source": [
    "Many rows do not have the class codes. To resolve this, we can simply match them with rows that have the same title and do have a code. <br> (This cell may take a minute to run)"
   ]
  },
  {
   "cell_type": "code",
   "execution_count": 38,
   "metadata": {},
   "outputs": [],
   "source": [
    "for index, row in application_df.iterrows():\n",
    "    if row.Code == '':\n",
    "        title_with_code = application_df[(application_df['City Job Title'] == row['City Job Title']) & (application_df.Code != '')]\n",
    "        if title_with_code.size > 0:\n",
    "            new_code = title_with_code.iloc[0].Code\n",
    "            application_df.at[index, 'Code'] = new_code\n",
    "        "
   ]
  },
  {
   "cell_type": "markdown",
   "metadata": {},
   "source": [
    "We can also prepend a \"C\" to match the style of the payplan table."
   ]
  },
  {
   "cell_type": "code",
   "execution_count": 39,
   "metadata": {},
   "outputs": [
    {
     "data": {
      "text/html": [
       "<div>\n",
       "<style scoped>\n",
       "    .dataframe tbody tr th:only-of-type {\n",
       "        vertical-align: middle;\n",
       "    }\n",
       "\n",
       "    .dataframe tbody tr th {\n",
       "        vertical-align: top;\n",
       "    }\n",
       "\n",
       "    .dataframe thead th {\n",
       "        text-align: right;\n",
       "    }\n",
       "</style>\n",
       "<table border=\"1\" class=\"dataframe\">\n",
       "  <thead>\n",
       "    <tr style=\"text-align: right;\">\n",
       "      <th></th>\n",
       "      <th>City Job Title</th>\n",
       "      <th>Application Date</th>\n",
       "      <th>Code</th>\n",
       "    </tr>\n",
       "  </thead>\n",
       "  <tbody>\n",
       "    <tr>\n",
       "      <th>0</th>\n",
       "      <td>311 TELECOMMUNICATIONS OPERATOR</td>\n",
       "      <td>02/16/2018 12:00:00 AM</td>\n",
       "      <td>C7401</td>\n",
       "    </tr>\n",
       "    <tr>\n",
       "      <th>1</th>\n",
       "      <td>311 TELECOMMUNICATIONS OPERATOR</td>\n",
       "      <td>02/16/2018 12:00:00 AM</td>\n",
       "      <td>C7401</td>\n",
       "    </tr>\n",
       "    <tr>\n",
       "      <th>2</th>\n",
       "      <td>311 TELECOMMUNICATIONS OPERATOR</td>\n",
       "      <td>02/16/2018 12:00:00 AM</td>\n",
       "      <td>C7401</td>\n",
       "    </tr>\n",
       "    <tr>\n",
       "      <th>3</th>\n",
       "      <td>311 TELECOMMUNICATIONS OPERATOR</td>\n",
       "      <td>02/16/2018 12:00:00 AM</td>\n",
       "      <td>C7401</td>\n",
       "    </tr>\n",
       "    <tr>\n",
       "      <th>4</th>\n",
       "      <td>311 TELECOMMUNICATIONS OPERATOR</td>\n",
       "      <td>02/16/2018 12:00:00 AM</td>\n",
       "      <td>C7401</td>\n",
       "    </tr>\n",
       "    <tr>\n",
       "      <th>...</th>\n",
       "      <td>...</td>\n",
       "      <td>...</td>\n",
       "      <td>...</td>\n",
       "    </tr>\n",
       "    <tr>\n",
       "      <th>72022</th>\n",
       "      <td>ZONING ADMINISTRATOR</td>\n",
       "      <td>09/22/2018 12:00:00 AM</td>\n",
       "      <td>C4250</td>\n",
       "    </tr>\n",
       "    <tr>\n",
       "      <th>72023</th>\n",
       "      <td>ZONING ADMINISTRATOR</td>\n",
       "      <td>09/24/2018 12:00:00 AM</td>\n",
       "      <td>C4250</td>\n",
       "    </tr>\n",
       "    <tr>\n",
       "      <th>72024</th>\n",
       "      <td>ZONING ADMINISTRATOR</td>\n",
       "      <td>09/25/2018 12:00:00 AM</td>\n",
       "      <td>C4250</td>\n",
       "    </tr>\n",
       "    <tr>\n",
       "      <th>72025</th>\n",
       "      <td>ZONING ADMINISTRATOR</td>\n",
       "      <td>09/27/2018 12:00:00 AM</td>\n",
       "      <td>C4250</td>\n",
       "    </tr>\n",
       "    <tr>\n",
       "      <th>72026</th>\n",
       "      <td>ZONING ADMINISTRATOR</td>\n",
       "      <td>09/27/2018 12:00:00 AM</td>\n",
       "      <td>C4250</td>\n",
       "    </tr>\n",
       "  </tbody>\n",
       "</table>\n",
       "<p>72027 rows × 3 columns</p>\n",
       "</div>"
      ],
      "text/plain": [
       "                        City Job Title        Application Date   Code\n",
       "0      311 TELECOMMUNICATIONS OPERATOR  02/16/2018 12:00:00 AM  C7401\n",
       "1      311 TELECOMMUNICATIONS OPERATOR  02/16/2018 12:00:00 AM  C7401\n",
       "2      311 TELECOMMUNICATIONS OPERATOR  02/16/2018 12:00:00 AM  C7401\n",
       "3      311 TELECOMMUNICATIONS OPERATOR  02/16/2018 12:00:00 AM  C7401\n",
       "4      311 TELECOMMUNICATIONS OPERATOR  02/16/2018 12:00:00 AM  C7401\n",
       "...                                ...                     ...    ...\n",
       "72022             ZONING ADMINISTRATOR  09/22/2018 12:00:00 AM  C4250\n",
       "72023             ZONING ADMINISTRATOR  09/24/2018 12:00:00 AM  C4250\n",
       "72024             ZONING ADMINISTRATOR  09/25/2018 12:00:00 AM  C4250\n",
       "72025             ZONING ADMINISTRATOR  09/27/2018 12:00:00 AM  C4250\n",
       "72026             ZONING ADMINISTRATOR  09/27/2018 12:00:00 AM  C4250\n",
       "\n",
       "[72027 rows x 3 columns]"
      ]
     },
     "execution_count": 39,
     "metadata": {},
     "output_type": "execute_result"
    }
   ],
   "source": [
    "application_df['Code'] = application_df['Code'].apply(lambda x: \"C\" + x)\n",
    "application_df"
   ]
  },
  {
   "cell_type": "code",
   "execution_count": 40,
   "metadata": {
    "scrolled": true
   },
   "outputs": [
    {
     "data": {
      "text/plain": [
       "<matplotlib.axes._subplots.AxesSubplot at 0x271271cefa0>"
      ]
     },
     "execution_count": 40,
     "metadata": {},
     "output_type": "execute_result"
    },
    {
     "data": {
      "image/png": "[encoded data removed]",
      "text/plain": [
       "<Figure size 432x288 with 1 Axes>"
      ]
     },
     "metadata": {
      "needs_background": "light"
     },
     "output_type": "display_data"
    }
   ],
   "source": [
    "application_df['Code'].value_counts().head(5).plot.bar()"
   ]
  },
  {
   "cell_type": "markdown",
   "metadata": {},
   "source": [
    "Finally, we can do a few merges to get a dataframe that contains the frequency of application to a given position, as well as the salary quartiles of that position. We no longer need the application date column, and can then drop duplicates. Let's see what the most commonly applied-to jobs are, as well as their salaries."
   ]
  },
  {
   "cell_type": "code",
   "execution_count": 41,
   "metadata": {},
   "outputs": [],
   "source": [
    "apps_and_pay = application_df.merge(positions_to_pay_df, on=[\"Code\"])\n",
    "\n",
    "freq_df = apps_and_pay[\"City Job Title\"].value_counts().to_frame()\n",
    "freq_df.reset_index(inplace=True)\n",
    "freq_df.columns = [\"City Job Title\", 'freq']\n",
    "\n",
    "freq_and_pay = freq_df.merge(apps_and_pay, on=[\"City Job Title\"])"
   ]
  },
  {
   "cell_type": "code",
   "execution_count": 42,
   "metadata": {
    "scrolled": false
   },
   "outputs": [
    {
     "data": {
      "text/html": [
       "<div>\n",
       "<style scoped>\n",
       "    .dataframe tbody tr th:only-of-type {\n",
       "        vertical-align: middle;\n",
       "    }\n",
       "\n",
       "    .dataframe tbody tr th {\n",
       "        vertical-align: top;\n",
       "    }\n",
       "\n",
       "    .dataframe thead th {\n",
       "        text-align: right;\n",
       "    }\n",
       "</style>\n",
       "<table border=\"1\" class=\"dataframe\">\n",
       "  <thead>\n",
       "    <tr style=\"text-align: right;\">\n",
       "      <th></th>\n",
       "      <th>City Job Title</th>\n",
       "      <th>freq</th>\n",
       "      <th>Code</th>\n",
       "      <th>EAP</th>\n",
       "      <th>OC</th>\n",
       "      <th>Position Class</th>\n",
       "      <th>EQP</th>\n",
       "      <th>Grade</th>\n",
       "      <th>Min</th>\n",
       "      <th>Max</th>\n",
       "      <th>Step</th>\n",
       "      <th>Rate</th>\n",
       "      <th>Range</th>\n",
       "    </tr>\n",
       "  </thead>\n",
       "  <tbody>\n",
       "    <tr>\n",
       "      <th>0</th>\n",
       "      <td>POLICE RECRUIT - ACADEMY</td>\n",
       "      <td>12247</td>\n",
       "      <td>C7109</td>\n",
       "      <td>NaN</td>\n",
       "      <td>4</td>\n",
       "      <td>POLICE RECRUIT</td>\n",
       "      <td>False</td>\n",
       "      <td>65</td>\n",
       "      <td>34368.0</td>\n",
       "      <td>56488.0</td>\n",
       "      <td>14</td>\n",
       "      <td>40391.0</td>\n",
       "      <td>22120.0</td>\n",
       "    </tr>\n",
       "    <tr>\n",
       "      <th>12247</th>\n",
       "      <td>RECREATION CENTER ASSISTANT I</td>\n",
       "      <td>1998</td>\n",
       "      <td>C6158</td>\n",
       "      <td>EX</td>\n",
       "      <td>4</td>\n",
       "      <td>RECREATION ADMINISTRATOR ll (SPECIAL PROGRAMS)</td>\n",
       "      <td>False</td>\n",
       "      <td>82</td>\n",
       "      <td>52431.0</td>\n",
       "      <td>86176.0</td>\n",
       "      <td>09</td>\n",
       "      <td>57909.0</td>\n",
       "      <td>33745.0</td>\n",
       "    </tr>\n",
       "    <tr>\n",
       "      <th>12248</th>\n",
       "      <td>RECREATION CENTER ASSISTANT I</td>\n",
       "      <td>1998</td>\n",
       "      <td>C6158</td>\n",
       "      <td>NaN</td>\n",
       "      <td>5</td>\n",
       "      <td>RECREATION CENTER ASSISTANT</td>\n",
       "      <td>False</td>\n",
       "      <td>50</td>\n",
       "      <td>23675.0</td>\n",
       "      <td>38914.0</td>\n",
       "      <td>09</td>\n",
       "      <td>26149.0</td>\n",
       "      <td>15239.0</td>\n",
       "    </tr>\n",
       "    <tr>\n",
       "      <th>14245</th>\n",
       "      <td>UTILITIES PLANT WORKER</td>\n",
       "      <td>1452</td>\n",
       "      <td>C3016</td>\n",
       "      <td>NaN</td>\n",
       "      <td>5</td>\n",
       "      <td>UTILITIES PLANT WORKER</td>\n",
       "      <td>False</td>\n",
       "      <td>52</td>\n",
       "      <td>24882.0</td>\n",
       "      <td>40896.0</td>\n",
       "      <td>20</td>\n",
       "      <td>31505.0</td>\n",
       "      <td>16014.0</td>\n",
       "    </tr>\n",
       "    <tr>\n",
       "      <th>15697</th>\n",
       "      <td>NETWORKS MAINTENANCE TECHNICIAN I</td>\n",
       "      <td>1342</td>\n",
       "      <td>C3301</td>\n",
       "      <td>NaN</td>\n",
       "      <td>7</td>\n",
       "      <td>NETWORKS MAINTENANCE TECHNICIAN</td>\n",
       "      <td>False</td>\n",
       "      <td>52</td>\n",
       "      <td>24882.0</td>\n",
       "      <td>40896.0</td>\n",
       "      <td>15</td>\n",
       "      <td>29608.0</td>\n",
       "      <td>16014.0</td>\n",
       "    </tr>\n",
       "    <tr>\n",
       "      <th>17039</th>\n",
       "      <td>311 TELECOMMUNICATIONS OPERATOR</td>\n",
       "      <td>1228</td>\n",
       "      <td>C7401</td>\n",
       "      <td>NaN</td>\n",
       "      <td>NaN</td>\n",
       "      <td>311 TELECOMMUNICATIONS OPERATOR</td>\n",
       "      <td>False</td>\n",
       "      <td>50</td>\n",
       "      <td>23675.0</td>\n",
       "      <td>38914.0</td>\n",
       "      <td>09</td>\n",
       "      <td>26149.0</td>\n",
       "      <td>15239.0</td>\n",
       "    </tr>\n",
       "    <tr>\n",
       "      <th>18267</th>\n",
       "      <td>MANAGEMENT DEVELOPMENT ANALYST I</td>\n",
       "      <td>1192</td>\n",
       "      <td>C0361</td>\n",
       "      <td>NaN</td>\n",
       "      <td>NaN</td>\n",
       "      <td>MANAGEMENT DEVELOPMENT ANALYST</td>\n",
       "      <td>True</td>\n",
       "      <td>62</td>\n",
       "      <td>31899.0</td>\n",
       "      <td>52431.0</td>\n",
       "      <td>21</td>\n",
       "      <td>40896.0</td>\n",
       "      <td>20532.0</td>\n",
       "    </tr>\n",
       "    <tr>\n",
       "      <th>19459</th>\n",
       "      <td>GROUNDS PATROL OFFICER</td>\n",
       "      <td>1112</td>\n",
       "      <td>C7185</td>\n",
       "      <td>NaN</td>\n",
       "      <td>4</td>\n",
       "      <td>GROUNDS PATROL OFFICER</td>\n",
       "      <td>False</td>\n",
       "      <td>58</td>\n",
       "      <td>28882.0</td>\n",
       "      <td>47471.0</td>\n",
       "      <td>09</td>\n",
       "      <td>31899.0</td>\n",
       "      <td>18589.0</td>\n",
       "    </tr>\n",
       "    <tr>\n",
       "      <th>20571</th>\n",
       "      <td>OFFICE ASSISTANT IV</td>\n",
       "      <td>1084</td>\n",
       "      <td>C0132</td>\n",
       "      <td>NaN</td>\n",
       "      <td>6</td>\n",
       "      <td>OFFICE ASSISTANT IV</td>\n",
       "      <td>False</td>\n",
       "      <td>50</td>\n",
       "      <td>23675.0</td>\n",
       "      <td>38014.0</td>\n",
       "      <td>09</td>\n",
       "      <td>26149.0</td>\n",
       "      <td>14339.0</td>\n",
       "    </tr>\n",
       "    <tr>\n",
       "      <th>21655</th>\n",
       "      <td>AIRPORT SERVICES AGENT</td>\n",
       "      <td>1076</td>\n",
       "      <td>C8310</td>\n",
       "      <td>NaN</td>\n",
       "      <td>2</td>\n",
       "      <td>AIRPORT SERVICES AGENT</td>\n",
       "      <td>False</td>\n",
       "      <td>71</td>\n",
       "      <td>39893.0</td>\n",
       "      <td>65569.0</td>\n",
       "      <td>21</td>\n",
       "      <td>51144.0</td>\n",
       "      <td>25676.0</td>\n",
       "    </tr>\n",
       "  </tbody>\n",
       "</table>\n",
       "</div>"
      ],
      "text/plain": [
       "                          City Job Title   freq   Code  EAP   OC  \\\n",
       "0               POLICE RECRUIT - ACADEMY  12247  C7109  NaN    4   \n",
       "12247      RECREATION CENTER ASSISTANT I   1998  C6158   EX    4   \n",
       "12248      RECREATION CENTER ASSISTANT I   1998  C6158  NaN    5   \n",
       "14245             UTILITIES PLANT WORKER   1452  C3016  NaN    5   \n",
       "15697  NETWORKS MAINTENANCE TECHNICIAN I   1342  C3301  NaN    7   \n",
       "17039    311 TELECOMMUNICATIONS OPERATOR   1228  C7401  NaN  NaN   \n",
       "18267   MANAGEMENT DEVELOPMENT ANALYST I   1192  C0361  NaN  NaN   \n",
       "19459             GROUNDS PATROL OFFICER   1112  C7185  NaN    4   \n",
       "20571                OFFICE ASSISTANT IV   1084  C0132  NaN    6   \n",
       "21655             AIRPORT SERVICES AGENT   1076  C8310  NaN    2   \n",
       "\n",
       "                                       Position Class    EQP Grade      Min  \\\n",
       "0                                      POLICE RECRUIT  False    65  34368.0   \n",
       "12247  RECREATION ADMINISTRATOR ll (SPECIAL PROGRAMS)  False    82  52431.0   \n",
       "12248                     RECREATION CENTER ASSISTANT  False    50  23675.0   \n",
       "14245                          UTILITIES PLANT WORKER  False    52  24882.0   \n",
       "15697                 NETWORKS MAINTENANCE TECHNICIAN  False    52  24882.0   \n",
       "17039                 311 TELECOMMUNICATIONS OPERATOR  False    50  23675.0   \n",
       "18267                  MANAGEMENT DEVELOPMENT ANALYST   True    62  31899.0   \n",
       "19459                          GROUNDS PATROL OFFICER  False    58  28882.0   \n",
       "20571                             OFFICE ASSISTANT IV  False    50  23675.0   \n",
       "21655                          AIRPORT SERVICES AGENT  False    71  39893.0   \n",
       "\n",
       "           Max Step     Rate    Range  \n",
       "0      56488.0   14  40391.0  22120.0  \n",
       "12247  86176.0   09  57909.0  33745.0  \n",
       "12248  38914.0   09  26149.0  15239.0  \n",
       "14245  40896.0   20  31505.0  16014.0  \n",
       "15697  40896.0   15  29608.0  16014.0  \n",
       "17039  38914.0   09  26149.0  15239.0  \n",
       "18267  52431.0   21  40896.0  20532.0  \n",
       "19459  47471.0   09  31899.0  18589.0  \n",
       "20571  38014.0   09  26149.0  14339.0  \n",
       "21655  65569.0   21  51144.0  25676.0  "
      ]
     },
     "execution_count": 42,
     "metadata": {},
     "output_type": "execute_result"
    }
   ],
   "source": [
    "freq_and_pay = freq_and_pay.drop('Application Date', 1)\n",
    "freq_and_pay = freq_and_pay.drop_duplicates()\n",
    "freq_and_pay.sort_values(by=['freq'], ascending=False)\n",
    "freq_and_pay.head(10)"
   ]
  },
  {
   "cell_type": "code",
   "execution_count": 43,
   "metadata": {
    "scrolled": false
   },
   "outputs": [
    {
     "data": {
      "image/png": "[encoded data removed]",
      "text/plain": [
       "<Figure size 432x288 with 1 Axes>"
      ]
     },
     "metadata": {
      "needs_background": "light"
     },
     "output_type": "display_data"
    }
   ],
   "source": [
    "freq_and_pay = freq_and_pay.set_index(\"City Job Title\")\n",
    "ax = freq_and_pay.head(10)['freq'].plot.bar(legend=True)"
   ]
  },
  {
   "cell_type": "markdown",
   "metadata": {},
   "source": [
    "Police recruit is the most frequently applied to city job by an absolutely staggering margin. Now, we can overlay the starting rates of each of these jobs."
   ]
  },
  {
   "cell_type": "code",
   "execution_count": 44,
   "metadata": {
    "scrolled": false
   },
   "outputs": [
    {
     "data": {
      "image/png": "[encoded data removed]",
      "text/plain": [
       "<Figure size 432x288 with 1 Axes>"
      ]
     },
     "execution_count": 44,
     "metadata": {},
     "output_type": "execute_result"
    }
   ],
   "source": [
    "freq_and_pay.head(10)['Rate'].plot.bar(ax=ax, alpha=0.3, legend=True)\n",
    "ax.figure"
   ]
  },
  {
   "cell_type": "markdown",
   "metadata": {},
   "source": [
    "This plot indicates no meaningful relationship between application frequency and salary for the most popular jobs. We can take a look at every job using a scatter plot."
   ]
  },
  {
   "cell_type": "code",
   "execution_count": 45,
   "metadata": {
    "scrolled": false
   },
   "outputs": [
    {
     "data": {
      "text/plain": [
       "<matplotlib.axes._subplots.AxesSubplot at 0x271273cd190>"
      ]
     },
     "execution_count": 45,
     "metadata": {},
     "output_type": "execute_result"
    },
    {
     "data": {
      "image/png": "[encoded data removed]",
      "text/plain": [
       "<Figure size 432x288 with 1 Axes>"
      ]
     },
     "metadata": {
      "needs_background": "light"
     },
     "output_type": "display_data"
    }
   ],
   "source": [
    "freq_and_pay = freq_and_pay.reset_index()\n",
    "freq_and_pay.plot.scatter(x=\"freq\", y=\"Rate\")"
   ]
  },
  {
   "cell_type": "markdown",
   "metadata": {},
   "source": [
    "Our plot is also heavily distorted by the significant outlier - police recruits. We can remove that for now and try to replot the data. "
   ]
  },
  {
   "cell_type": "code",
   "execution_count": 46,
   "metadata": {},
   "outputs": [
    {
     "data": {
      "text/plain": [
       "<matplotlib.axes._subplots.AxesSubplot at 0x271273223d0>"
      ]
     },
     "execution_count": 46,
     "metadata": {},
     "output_type": "execute_result"
    },
    {
     "data": {
      "image/png": "[encoded data removed]",
      "text/plain": [
       "<Figure size 432x288 with 1 Axes>"
      ]
     },
     "metadata": {
      "needs_background": "light"
     },
     "output_type": "display_data"
    }
   ],
   "source": [
    "apps_without_police = freq_and_pay[1:] # We have already sorted our dataset on `freq`!\n",
    "apps_without_police.plot.scatter(x=\"freq\", y=\"Rate\")"
   ]
  },
  {
   "cell_type": "markdown",
   "metadata": {},
   "source": [
    "This plot shows something surprising - payrate and application frequency seem to be negatively correlated. We can use `.corr()` to generate a correlation matrix and confirm this."
   ]
  },
  {
   "cell_type": "code",
   "execution_count": 47,
   "metadata": {
    "scrolled": true
   },
   "outputs": [
    {
     "data": {
      "text/html": [
       "<div>\n",
       "<style scoped>\n",
       "    .dataframe tbody tr th:only-of-type {\n",
       "        vertical-align: middle;\n",
       "    }\n",
       "\n",
       "    .dataframe tbody tr th {\n",
       "        vertical-align: top;\n",
       "    }\n",
       "\n",
       "    .dataframe thead th {\n",
       "        text-align: right;\n",
       "    }\n",
       "</style>\n",
       "<table border=\"1\" class=\"dataframe\">\n",
       "  <thead>\n",
       "    <tr style=\"text-align: right;\">\n",
       "      <th></th>\n",
       "      <th>freq</th>\n",
       "      <th>EQP</th>\n",
       "      <th>Min</th>\n",
       "      <th>Max</th>\n",
       "      <th>Rate</th>\n",
       "      <th>Range</th>\n",
       "    </tr>\n",
       "  </thead>\n",
       "  <tbody>\n",
       "    <tr>\n",
       "      <th>freq</th>\n",
       "      <td>1.000000</td>\n",
       "      <td>0.000466</td>\n",
       "      <td>-0.093957</td>\n",
       "      <td>-0.097935</td>\n",
       "      <td>-0.088663</td>\n",
       "      <td>-0.096849</td>\n",
       "    </tr>\n",
       "    <tr>\n",
       "      <th>EQP</th>\n",
       "      <td>0.000466</td>\n",
       "      <td>1.000000</td>\n",
       "      <td>0.174156</td>\n",
       "      <td>0.168680</td>\n",
       "      <td>0.180636</td>\n",
       "      <td>0.148904</td>\n",
       "    </tr>\n",
       "    <tr>\n",
       "      <th>Min</th>\n",
       "      <td>-0.093957</td>\n",
       "      <td>0.174156</td>\n",
       "      <td>1.000000</td>\n",
       "      <td>0.980458</td>\n",
       "      <td>0.972971</td>\n",
       "      <td>0.883353</td>\n",
       "    </tr>\n",
       "    <tr>\n",
       "      <th>Max</th>\n",
       "      <td>-0.097935</td>\n",
       "      <td>0.168680</td>\n",
       "      <td>0.980458</td>\n",
       "      <td>1.000000</td>\n",
       "      <td>0.975144</td>\n",
       "      <td>0.958299</td>\n",
       "    </tr>\n",
       "    <tr>\n",
       "      <th>Rate</th>\n",
       "      <td>-0.088663</td>\n",
       "      <td>0.180636</td>\n",
       "      <td>0.972971</td>\n",
       "      <td>0.975144</td>\n",
       "      <td>1.000000</td>\n",
       "      <td>0.907158</td>\n",
       "    </tr>\n",
       "    <tr>\n",
       "      <th>Range</th>\n",
       "      <td>-0.096849</td>\n",
       "      <td>0.148904</td>\n",
       "      <td>0.883353</td>\n",
       "      <td>0.958299</td>\n",
       "      <td>0.907158</td>\n",
       "      <td>1.000000</td>\n",
       "    </tr>\n",
       "  </tbody>\n",
       "</table>\n",
       "</div>"
      ],
      "text/plain": [
       "           freq       EQP       Min       Max      Rate     Range\n",
       "freq   1.000000  0.000466 -0.093957 -0.097935 -0.088663 -0.096849\n",
       "EQP    0.000466  1.000000  0.174156  0.168680  0.180636  0.148904\n",
       "Min   -0.093957  0.174156  1.000000  0.980458  0.972971  0.883353\n",
       "Max   -0.097935  0.168680  0.980458  1.000000  0.975144  0.958299\n",
       "Rate  -0.088663  0.180636  0.972971  0.975144  1.000000  0.907158\n",
       "Range -0.096849  0.148904  0.883353  0.958299  0.907158  1.000000"
      ]
     },
     "execution_count": 47,
     "metadata": {},
     "output_type": "execute_result"
    }
   ],
   "source": [
    "freq_and_pay.corr()"
   ]
  },
  {
   "cell_type": "code",
   "execution_count": 48,
   "metadata": {},
   "outputs": [
    {
     "data": {
      "text/html": [
       "<div>\n",
       "<style scoped>\n",
       "    .dataframe tbody tr th:only-of-type {\n",
       "        vertical-align: middle;\n",
       "    }\n",
       "\n",
       "    .dataframe tbody tr th {\n",
       "        vertical-align: top;\n",
       "    }\n",
       "\n",
       "    .dataframe thead th {\n",
       "        text-align: right;\n",
       "    }\n",
       "</style>\n",
       "<table border=\"1\" class=\"dataframe\">\n",
       "  <thead>\n",
       "    <tr style=\"text-align: right;\">\n",
       "      <th></th>\n",
       "      <th>City Job Title</th>\n",
       "      <th>freq</th>\n",
       "      <th>Code</th>\n",
       "      <th>EAP</th>\n",
       "      <th>OC</th>\n",
       "      <th>Position Class</th>\n",
       "      <th>EQP</th>\n",
       "      <th>Grade</th>\n",
       "      <th>Min</th>\n",
       "      <th>Max</th>\n",
       "      <th>Step</th>\n",
       "      <th>Rate</th>\n",
       "      <th>Range</th>\n",
       "    </tr>\n",
       "  </thead>\n",
       "  <tbody>\n",
       "    <tr>\n",
       "      <th>0</th>\n",
       "      <td>POLICE RECRUIT - ACADEMY</td>\n",
       "      <td>12247</td>\n",
       "      <td>C7109</td>\n",
       "      <td>NaN</td>\n",
       "      <td>4</td>\n",
       "      <td>POLICE RECRUIT</td>\n",
       "      <td>False</td>\n",
       "      <td>65</td>\n",
       "      <td>34368.0</td>\n",
       "      <td>56488.0</td>\n",
       "      <td>14</td>\n",
       "      <td>40391.0</td>\n",
       "      <td>22120.0</td>\n",
       "    </tr>\n",
       "    <tr>\n",
       "      <th>1</th>\n",
       "      <td>RECREATION CENTER ASSISTANT I</td>\n",
       "      <td>1998</td>\n",
       "      <td>C6158</td>\n",
       "      <td>EX</td>\n",
       "      <td>4</td>\n",
       "      <td>RECREATION ADMINISTRATOR ll (SPECIAL PROGRAMS)</td>\n",
       "      <td>False</td>\n",
       "      <td>82</td>\n",
       "      <td>52431.0</td>\n",
       "      <td>86176.0</td>\n",
       "      <td>09</td>\n",
       "      <td>57909.0</td>\n",
       "      <td>33745.0</td>\n",
       "    </tr>\n",
       "    <tr>\n",
       "      <th>2</th>\n",
       "      <td>RECREATION CENTER ASSISTANT I</td>\n",
       "      <td>1998</td>\n",
       "      <td>C6158</td>\n",
       "      <td>NaN</td>\n",
       "      <td>5</td>\n",
       "      <td>RECREATION CENTER ASSISTANT</td>\n",
       "      <td>False</td>\n",
       "      <td>50</td>\n",
       "      <td>23675.0</td>\n",
       "      <td>38914.0</td>\n",
       "      <td>09</td>\n",
       "      <td>26149.0</td>\n",
       "      <td>15239.0</td>\n",
       "    </tr>\n",
       "    <tr>\n",
       "      <th>3</th>\n",
       "      <td>UTILITIES PLANT WORKER</td>\n",
       "      <td>1452</td>\n",
       "      <td>C3016</td>\n",
       "      <td>NaN</td>\n",
       "      <td>5</td>\n",
       "      <td>UTILITIES PLANT WORKER</td>\n",
       "      <td>False</td>\n",
       "      <td>52</td>\n",
       "      <td>24882.0</td>\n",
       "      <td>40896.0</td>\n",
       "      <td>20</td>\n",
       "      <td>31505.0</td>\n",
       "      <td>16014.0</td>\n",
       "    </tr>\n",
       "    <tr>\n",
       "      <th>4</th>\n",
       "      <td>NETWORKS MAINTENANCE TECHNICIAN I</td>\n",
       "      <td>1342</td>\n",
       "      <td>C3301</td>\n",
       "      <td>NaN</td>\n",
       "      <td>7</td>\n",
       "      <td>NETWORKS MAINTENANCE TECHNICIAN</td>\n",
       "      <td>False</td>\n",
       "      <td>52</td>\n",
       "      <td>24882.0</td>\n",
       "      <td>40896.0</td>\n",
       "      <td>15</td>\n",
       "      <td>29608.0</td>\n",
       "      <td>16014.0</td>\n",
       "    </tr>\n",
       "    <tr>\n",
       "      <th>...</th>\n",
       "      <td>...</td>\n",
       "      <td>...</td>\n",
       "      <td>...</td>\n",
       "      <td>...</td>\n",
       "      <td>...</td>\n",
       "      <td>...</td>\n",
       "      <td>...</td>\n",
       "      <td>...</td>\n",
       "      <td>...</td>\n",
       "      <td>...</td>\n",
       "      <td>...</td>\n",
       "      <td>...</td>\n",
       "      <td>...</td>\n",
       "    </tr>\n",
       "    <tr>\n",
       "      <th>374</th>\n",
       "      <td>CRIMINALIST II</td>\n",
       "      <td>1</td>\n",
       "      <td>C5251</td>\n",
       "      <td>NaN</td>\n",
       "      <td>2</td>\n",
       "      <td>CRIMINALIST II</td>\n",
       "      <td>False</td>\n",
       "      <td>71</td>\n",
       "      <td>39893.0</td>\n",
       "      <td>65569.0</td>\n",
       "      <td>9</td>\n",
       "      <td>44061.0</td>\n",
       "      <td>25676.0</td>\n",
       "    </tr>\n",
       "    <tr>\n",
       "      <th>375</th>\n",
       "      <td>CODE ENFORCEMENT ASSISTANT II</td>\n",
       "      <td>1</td>\n",
       "      <td>C5317</td>\n",
       "      <td>NaN</td>\n",
       "      <td>3</td>\n",
       "      <td>CODE ENFORCEMENT ASSISTANT II</td>\n",
       "      <td>False</td>\n",
       "      <td>54</td>\n",
       "      <td>26149.0</td>\n",
       "      <td>42980.0</td>\n",
       "      <td>09</td>\n",
       "      <td>28882.0</td>\n",
       "      <td>16831.0</td>\n",
       "    </tr>\n",
       "    <tr>\n",
       "      <th>376</th>\n",
       "      <td>AIRPORT SENIOR TRANSPORTATION OFFICER</td>\n",
       "      <td>1</td>\n",
       "      <td>C8055</td>\n",
       "      <td>NaN</td>\n",
       "      <td>7</td>\n",
       "      <td>AIRPORT SENIOR TRANSPORTATION OFFICER</td>\n",
       "      <td>False</td>\n",
       "      <td>64</td>\n",
       "      <td>33524.0</td>\n",
       "      <td>55102.0</td>\n",
       "      <td>9</td>\n",
       "      <td>37027.0</td>\n",
       "      <td>21578.0</td>\n",
       "    </tr>\n",
       "    <tr>\n",
       "      <th>377</th>\n",
       "      <td>MOSQUITO TERMITE &amp; RODENT CONTROL, ASSISTANT D...</td>\n",
       "      <td>1</td>\n",
       "      <td>C5429</td>\n",
       "      <td>NaN</td>\n",
       "      <td>NaN</td>\n",
       "      <td>MOSQUITO TERMITE RODENT CONTROL, ASSISTANT DIR...</td>\n",
       "      <td>False</td>\n",
       "      <td>107</td>\n",
       "      <td>97575.0</td>\n",
       "      <td>160377.0</td>\n",
       "      <td>09</td>\n",
       "      <td>107770.0</td>\n",
       "      <td>62802.0</td>\n",
       "    </tr>\n",
       "    <tr>\n",
       "      <th>378</th>\n",
       "      <td>CHIEF OPERATIONS MANAGER</td>\n",
       "      <td>1</td>\n",
       "      <td>C4223</td>\n",
       "      <td>EX</td>\n",
       "      <td>1</td>\n",
       "      <td>CHIEF OPERATIONS MANAGER</td>\n",
       "      <td>False</td>\n",
       "      <td>90</td>\n",
       "      <td>63960.0</td>\n",
       "      <td>105126.0</td>\n",
       "      <td>11</td>\n",
       "      <td>72420.0</td>\n",
       "      <td>41166.0</td>\n",
       "    </tr>\n",
       "  </tbody>\n",
       "</table>\n",
       "<p>379 rows × 13 columns</p>\n",
       "</div>"
      ],
      "text/plain": [
       "                                        City Job Title   freq   Code  EAP  \\\n",
       "0                             POLICE RECRUIT - ACADEMY  12247  C7109  NaN   \n",
       "1                        RECREATION CENTER ASSISTANT I   1998  C6158   EX   \n",
       "2                        RECREATION CENTER ASSISTANT I   1998  C6158  NaN   \n",
       "3                               UTILITIES PLANT WORKER   1452  C3016  NaN   \n",
       "4                    NETWORKS MAINTENANCE TECHNICIAN I   1342  C3301  NaN   \n",
       "..                                                 ...    ...    ...  ...   \n",
       "374                                     CRIMINALIST II      1  C5251  NaN   \n",
       "375                      CODE ENFORCEMENT ASSISTANT II      1  C5317  NaN   \n",
       "376              AIRPORT SENIOR TRANSPORTATION OFFICER      1  C8055  NaN   \n",
       "377  MOSQUITO TERMITE & RODENT CONTROL, ASSISTANT D...      1  C5429  NaN   \n",
       "378                           CHIEF OPERATIONS MANAGER      1  C4223   EX   \n",
       "\n",
       "      OC                                     Position Class    EQP Grade  \\\n",
       "0      4                                     POLICE RECRUIT  False    65   \n",
       "1      4     RECREATION ADMINISTRATOR ll (SPECIAL PROGRAMS)  False    82   \n",
       "2      5                        RECREATION CENTER ASSISTANT  False    50   \n",
       "3      5                             UTILITIES PLANT WORKER  False    52   \n",
       "4      7                    NETWORKS MAINTENANCE TECHNICIAN  False    52   \n",
       "..   ...                                                ...    ...   ...   \n",
       "374    2                                     CRIMINALIST II  False    71   \n",
       "375    3                      CODE ENFORCEMENT ASSISTANT II  False    54   \n",
       "376    7              AIRPORT SENIOR TRANSPORTATION OFFICER  False    64   \n",
       "377  NaN  MOSQUITO TERMITE RODENT CONTROL, ASSISTANT DIR...  False   107   \n",
       "378    1                           CHIEF OPERATIONS MANAGER  False    90   \n",
       "\n",
       "         Min       Max Step      Rate    Range  \n",
       "0    34368.0   56488.0   14   40391.0  22120.0  \n",
       "1    52431.0   86176.0   09   57909.0  33745.0  \n",
       "2    23675.0   38914.0   09   26149.0  15239.0  \n",
       "3    24882.0   40896.0   20   31505.0  16014.0  \n",
       "4    24882.0   40896.0   15   29608.0  16014.0  \n",
       "..       ...       ...  ...       ...      ...  \n",
       "374  39893.0   65569.0    9   44061.0  25676.0  \n",
       "375  26149.0   42980.0   09   28882.0  16831.0  \n",
       "376  33524.0   55102.0    9   37027.0  21578.0  \n",
       "377  97575.0  160377.0   09  107770.0  62802.0  \n",
       "378  63960.0  105126.0   11   72420.0  41166.0  \n",
       "\n",
       "[379 rows x 13 columns]"
      ]
     },
     "execution_count": 48,
     "metadata": {},
     "output_type": "execute_result"
    }
   ],
   "source": [
    "freq_and_pay"
   ]
  },
  {
   "cell_type": "markdown",
   "metadata": {},
   "source": [
    "We can observe that min/max/rate are actually *negatively* correlated with frequency of application! This leads us to believe that other factors than pay may influence application frequency. "
   ]
  },
  {
   "cell_type": "markdown",
   "metadata": {},
   "source": [
    "## Requisition Request Description Analysis (NF-IDF Vectors!)"
   ]
  },
  {
   "cell_type": "markdown",
   "metadata": {},
   "source": [
    "We can take a look at job descriptions to see what sorts of traits are common in city jobs. The `Description_Of_Duties` column in our requisition request dataframe (`req_df`) contains some of this information. We can use `sklearn` to do some text analysis with td-idf vectors."
   ]
  },
  {
   "cell_type": "code",
   "execution_count": 182,
   "metadata": {
    "scrolled": true
   },
   "outputs": [],
   "source": [
    "import sklearn\n",
    "from sklearn.feature_extraction.text import TfidfVectorizer\n",
    "from sklearn.linear_model import LogisticRegression\n",
    "from sklearn.model_selection import train_test_split"
   ]
  },
  {
   "cell_type": "markdown",
   "metadata": {},
   "source": [
    "`sklearn` will complain if we have any NaNs, so we can drop those. Additionally, we need some sort of metric to weight our vectors by - we can see which departments have high or low demand for new workers based on their number of requisition requests."
   ]
  },
  {
   "cell_type": "code",
   "execution_count": 183,
   "metadata": {
    "scrolled": false
   },
   "outputs": [
    {
     "data": {
      "text/plain": [
       "Sewerage and Water Board of New Orleans           803\n",
       "Miscellaneous                                     654\n",
       "Police Department                                 625\n",
       "Public Works Department                           183\n",
       "Human Services                                    182\n",
       "Health Department                                 160\n",
       "New Orleans Aviation Board                        142\n",
       "Fire Department                                   133\n",
       "Chief Administrative Office                       128\n",
       "Mayor's Office                                    109\n",
       "Safety & Permits                                   92\n",
       "Sanitation Department                              85\n",
       "Property Management                                83\n",
       "Parks & Parkways                                   81\n",
       "Clerk of Criminal District Court                   60\n",
       "Municipal Court                                    51\n",
       "Finance Department                                 51\n",
       "New Orleans Mosquito and Termite Control Board     38\n",
       "Office Of Community Development                    31\n",
       "City Planning Commission                           30\n",
       "Civil Service Department                           29\n",
       "NOPD                                               27\n",
       "City Council                                       24\n",
       "Law Department                                     13\n",
       "Coroner's Office                                   13\n",
       "Juvenile Court                                     12\n",
       "French Market Corporation                           9\n",
       "Office of Inspector General                         8\n",
       "Vieux Carre Commission                              6\n",
       "New Orleans Public Library                          3\n",
       "Historic Districts and Landmarks Commission         3\n",
       "Office of Independent Police Monitor                2\n",
       "Municipal Yacht Harbor                              1\n",
       "Name: Department, dtype: int64"
      ]
     },
     "execution_count": 183,
     "metadata": {},
     "output_type": "execute_result"
    }
   ],
   "source": [
    "req_df = req_df[req_df['Description_Of_Duties_This_Sh'].notna()] # Fun fact, we only lose 5 out of 3876 rows doing this\n",
    "req_df['Department'].value_counts()"
   ]
  },
  {
   "cell_type": "markdown",
   "metadata": {},
   "source": [
    "We see that the departments with the most need (by a wide margin) are Sewerage and Water, Miscellaneous, and the Police Department. We will classify these three departments as \"high\" demand, and the others as \"low\". \n",
    "\n",
    "We will also add a column for whether a request was satisfied or not based on the mapping we applied earlier. This will become useful later! (Note: This is different than the given `Req_Status` column because it is binary, which is important for our purpose.)"
   ]
  },
  {
   "cell_type": "code",
   "execution_count": 184,
   "metadata": {},
   "outputs": [],
   "source": [
    "req_df['demand'] = ''\n",
    "req_df['s/u'] = ''\n",
    "\n",
    "high_demand_depts = [\"Sewerage and Water Board of New Orleans\", \"Miscellaneous\", \"Police Department\"]\n",
    "\n",
    "for i, row in req_df.iterrows():\n",
    "    dept = row[\"Department\"]\n",
    "    if dept in high_demand_depts:\n",
    "        req_df.at[i, \"demand\"] = \"high\"\n",
    "    else:\n",
    "        req_df.at[i, \"demand\"] = \"low\"\n",
    "        \n",
    "    if row['Req_Status_Num'] == 1.0 or row['Req_Status_Num'] == 0.5:\n",
    "        req_df.at[i, \"s/u\"] = 'satisfied'\n",
    "    else:\n",
    "        req_df.at[i, \"s/u\"] = 'not satisfied'\n",
    "        "
   ]
  },
  {
   "cell_type": "markdown",
   "metadata": {},
   "source": [
    "We get a fairly even number of high and low demand requests this way, which is good!"
   ]
  },
  {
   "cell_type": "code",
   "execution_count": 185,
   "metadata": {
    "scrolled": false
   },
   "outputs": [
    {
     "data": {
      "text/plain": [
       "high    2082\n",
       "low     1789\n",
       "Name: demand, dtype: int64"
      ]
     },
     "execution_count": 185,
     "metadata": {},
     "output_type": "execute_result"
    }
   ],
   "source": [
    "req_df.demand.value_counts()"
   ]
  },
  {
   "cell_type": "markdown",
   "metadata": {},
   "source": [
    "Now, we can begin generating our vectors."
   ]
  },
  {
   "cell_type": "code",
   "execution_count": 186,
   "metadata": {},
   "outputs": [
    {
     "data": {
      "text/plain": [
       "<3871x207 sparse matrix of type '<class 'numpy.float64'>'\n",
       "\twith 104591 stored elements in Compressed Sparse Row format>"
      ]
     },
     "execution_count": 186,
     "metadata": {},
     "output_type": "execute_result"
    }
   ],
   "source": [
    "vec = TfidfVectorizer(min_df = 0.05, \n",
    "                      max_df = 0.85, \n",
    "                      ngram_range=(1,1)) # play with min_df and max_df\n",
    "\n",
    "# transform this into a sparse vector!\n",
    "vec.fit(req_df['Description_Of_Duties_This_Sh'])\n",
    "tf_idf_sparse = vec.transform(req_df[\"Description_Of_Duties_This_Sh\"])\n",
    "tf_idf_sparse"
   ]
  },
  {
   "cell_type": "markdown",
   "metadata": {},
   "source": [
    "Now, we can make a model to classify the demand of a requisition request based on its description."
   ]
  },
  {
   "cell_type": "code",
   "execution_count": 187,
   "metadata": {},
   "outputs": [],
   "source": [
    "X_train, X_test, y_train, y_test = train_test_split(tf_idf_sparse, \n",
    "                                                    req_df['demand'], \n",
    "                                                    test_size=0.2)\n",
    "\n",
    "logisticRegr = LogisticRegression(max_iter=100000, class_weight='balanced') \n",
    "model = logisticRegr.fit(X_train, y_train)"
   ]
  },
  {
   "cell_type": "markdown",
   "metadata": {},
   "source": [
    "Looking at our confusion matrix and accuracy score, we can see that our model correctly classifies descriptions 88% of the time."
   ]
  },
  {
   "cell_type": "code",
   "execution_count": 188,
   "metadata": {},
   "outputs": [
    {
     "name": "stdout",
     "output_type": "stream",
     "text": [
      "0.9045161290322581\n"
     ]
    },
    {
     "data": {
      "text/plain": [
       "<sklearn.metrics._plot.confusion_matrix.ConfusionMatrixDisplay at 0x27128c456d0>"
      ]
     },
     "execution_count": 188,
     "metadata": {},
     "output_type": "execute_result"
    },
    {
     "data": {
      "image/png": "[encoded data removed]",
      "text/plain": [
       "<Figure size 432x288 with 2 Axes>"
      ]
     },
     "metadata": {
      "needs_background": "light"
     },
     "output_type": "display_data"
    }
   ],
   "source": [
    "from sklearn.metrics import accuracy_score, plot_confusion_matrix\n",
    "import matplotlib.pyplot as plt\n",
    "y_pred = model.predict(X_test)\n",
    "print(accuracy_score(y_test, y_pred))\n",
    "plot_confusion_matrix(model, X_test, y_test,\n",
    "                                 display_labels=logisticRegr.classes_,\n",
    "                                 cmap=plt.cm.Blues, normalize='all')"
   ]
  },
  {
   "cell_type": "markdown",
   "metadata": {},
   "source": [
    "We can also see which individual words affect the demand most. We must also check the order of the classes in our array to see which one is negatively weighted and which one is positively weighted (the first class is negative, the second is positive)."
   ]
  },
  {
   "cell_type": "code",
   "execution_count": 189,
   "metadata": {
    "scrolled": true
   },
   "outputs": [
    {
     "data": {
      "text/plain": [
       "array(['high', 'low'], dtype=object)"
      ]
     },
     "execution_count": 189,
     "metadata": {},
     "output_type": "execute_result"
    }
   ],
   "source": [
    "logisticRegr.classes_"
   ]
  },
  {
   "cell_type": "markdown",
   "metadata": {},
   "source": [
    "High demand adds **negative** weight, where low demand adds **positive** weight."
   ]
  },
  {
   "cell_type": "code",
   "execution_count": 190,
   "metadata": {},
   "outputs": [],
   "source": [
    "descs = []\n",
    "for w,i in vec.vocabulary_.items():\n",
    "    descs.append([str(w)] + list(logisticRegr.coef_[:,i]))\n",
    "df_weights = pd.DataFrame(descs, columns=['word', 'weight'])"
   ]
  },
  {
   "cell_type": "code",
   "execution_count": 191,
   "metadata": {
    "scrolled": false
   },
   "outputs": [
    {
     "data": {
      "text/html": [
       "<div>\n",
       "<style scoped>\n",
       "    .dataframe tbody tr th:only-of-type {\n",
       "        vertical-align: middle;\n",
       "    }\n",
       "\n",
       "    .dataframe tbody tr th {\n",
       "        vertical-align: top;\n",
       "    }\n",
       "\n",
       "    .dataframe thead th {\n",
       "        text-align: right;\n",
       "    }\n",
       "</style>\n",
       "<table border=\"1\" class=\"dataframe\">\n",
       "  <thead>\n",
       "    <tr style=\"text-align: right;\">\n",
       "      <th></th>\n",
       "      <th>word</th>\n",
       "      <th>weight</th>\n",
       "    </tr>\n",
       "  </thead>\n",
       "  <tbody>\n",
       "    <tr>\n",
       "      <th>129</th>\n",
       "      <td>police</td>\n",
       "      <td>-6.488048</td>\n",
       "    </tr>\n",
       "    <tr>\n",
       "      <th>163</th>\n",
       "      <td>water</td>\n",
       "      <td>-5.838313</td>\n",
       "    </tr>\n",
       "    <tr>\n",
       "      <th>172</th>\n",
       "      <td>facilities</td>\n",
       "      <td>-3.412494</td>\n",
       "    </tr>\n",
       "    <tr>\n",
       "      <th>114</th>\n",
       "      <td>professional</td>\n",
       "      <td>-2.698487</td>\n",
       "    </tr>\n",
       "    <tr>\n",
       "      <th>69</th>\n",
       "      <td>construction</td>\n",
       "      <td>-2.680226</td>\n",
       "    </tr>\n",
       "    <tr>\n",
       "      <th>59</th>\n",
       "      <td>training</td>\n",
       "      <td>-2.567890</td>\n",
       "    </tr>\n",
       "    <tr>\n",
       "      <th>22</th>\n",
       "      <td>position</td>\n",
       "      <td>-2.438188</td>\n",
       "    </tr>\n",
       "    <tr>\n",
       "      <th>16</th>\n",
       "      <td>department</td>\n",
       "      <td>-2.416471</td>\n",
       "    </tr>\n",
       "    <tr>\n",
       "      <th>91</th>\n",
       "      <td>performs</td>\n",
       "      <td>-2.416211</td>\n",
       "    </tr>\n",
       "    <tr>\n",
       "      <th>141</th>\n",
       "      <td>within</td>\n",
       "      <td>-2.247023</td>\n",
       "    </tr>\n",
       "    <tr>\n",
       "      <th>138</th>\n",
       "      <td>laws</td>\n",
       "      <td>-2.171349</td>\n",
       "    </tr>\n",
       "    <tr>\n",
       "      <th>196</th>\n",
       "      <td>aquatics</td>\n",
       "      <td>-2.126972</td>\n",
       "    </tr>\n",
       "    <tr>\n",
       "      <th>150</th>\n",
       "      <td>park</td>\n",
       "      <td>-1.994034</td>\n",
       "    </tr>\n",
       "    <tr>\n",
       "      <th>57</th>\n",
       "      <td>manage</td>\n",
       "      <td>-1.950390</td>\n",
       "    </tr>\n",
       "    <tr>\n",
       "      <th>137</th>\n",
       "      <td>out</td>\n",
       "      <td>-1.935198</td>\n",
       "    </tr>\n",
       "    <tr>\n",
       "      <th>45</th>\n",
       "      <td>life</td>\n",
       "      <td>-1.928184</td>\n",
       "    </tr>\n",
       "    <tr>\n",
       "      <th>118</th>\n",
       "      <td>also</td>\n",
       "      <td>-1.907737</td>\n",
       "    </tr>\n",
       "    <tr>\n",
       "      <th>113</th>\n",
       "      <td>performing</td>\n",
       "      <td>-1.895074</td>\n",
       "    </tr>\n",
       "    <tr>\n",
       "      <th>28</th>\n",
       "      <td>will</td>\n",
       "      <td>-1.698404</td>\n",
       "    </tr>\n",
       "    <tr>\n",
       "      <th>109</th>\n",
       "      <td>assisting</td>\n",
       "      <td>-1.691939</td>\n",
       "    </tr>\n",
       "    <tr>\n",
       "      <th>30</th>\n",
       "      <td>service</td>\n",
       "      <td>-1.691287</td>\n",
       "    </tr>\n",
       "    <tr>\n",
       "      <th>11</th>\n",
       "      <td>assist</td>\n",
       "      <td>-1.677789</td>\n",
       "    </tr>\n",
       "    <tr>\n",
       "      <th>29</th>\n",
       "      <td>customer</td>\n",
       "      <td>-1.656428</td>\n",
       "    </tr>\n",
       "    <tr>\n",
       "      <th>192</th>\n",
       "      <td>pool</td>\n",
       "      <td>-1.652178</td>\n",
       "    </tr>\n",
       "    <tr>\n",
       "      <th>180</th>\n",
       "      <td>enforcing</td>\n",
       "      <td>-1.589136</td>\n",
       "    </tr>\n",
       "  </tbody>\n",
       "</table>\n",
       "</div>"
      ],
      "text/plain": [
       "             word    weight\n",
       "129        police -6.488048\n",
       "163         water -5.838313\n",
       "172    facilities -3.412494\n",
       "114  professional -2.698487\n",
       "69   construction -2.680226\n",
       "59       training -2.567890\n",
       "22       position -2.438188\n",
       "16     department -2.416471\n",
       "91       performs -2.416211\n",
       "141        within -2.247023\n",
       "138          laws -2.171349\n",
       "196      aquatics -2.126972\n",
       "150          park -1.994034\n",
       "57         manage -1.950390\n",
       "137           out -1.935198\n",
       "45           life -1.928184\n",
       "118          also -1.907737\n",
       "113    performing -1.895074\n",
       "28           will -1.698404\n",
       "109     assisting -1.691939\n",
       "30        service -1.691287\n",
       "11         assist -1.677789\n",
       "29       customer -1.656428\n",
       "192          pool -1.652178\n",
       "180     enforcing -1.589136"
      ]
     },
     "execution_count": 191,
     "metadata": {},
     "output_type": "execute_result"
    }
   ],
   "source": [
    "df_weights.sort_values('weight', ascending=True)[:25]"
   ]
  },
  {
   "cell_type": "markdown",
   "metadata": {},
   "source": [
    "The above words are those that weight towards a high demand position. The top two come as no surprise - \"police\" and \"water\" correspond to the Police Department and the Sewerage and Water Board, two of our high demand departments. Below that, we see some more informative words - \"manage\", \"enforcing\", \"professional\". Let's take a look at our low-demand words."
   ]
  },
  {
   "cell_type": "code",
   "execution_count": 192,
   "metadata": {},
   "outputs": [
    {
     "data": {
      "text/html": [
       "<div>\n",
       "<style scoped>\n",
       "    .dataframe tbody tr th:only-of-type {\n",
       "        vertical-align: middle;\n",
       "    }\n",
       "\n",
       "    .dataframe tbody tr th {\n",
       "        vertical-align: top;\n",
       "    }\n",
       "\n",
       "    .dataframe thead th {\n",
       "        text-align: right;\n",
       "    }\n",
       "</style>\n",
       "<table border=\"1\" class=\"dataframe\">\n",
       "  <thead>\n",
       "    <tr style=\"text-align: right;\">\n",
       "      <th></th>\n",
       "      <th>word</th>\n",
       "      <th>weight</th>\n",
       "    </tr>\n",
       "  </thead>\n",
       "  <tbody>\n",
       "    <tr>\n",
       "      <th>1</th>\n",
       "      <td>city</td>\n",
       "      <td>3.707976</td>\n",
       "    </tr>\n",
       "    <tr>\n",
       "      <th>142</th>\n",
       "      <td>incumbent</td>\n",
       "      <td>2.837547</td>\n",
       "    </tr>\n",
       "    <tr>\n",
       "      <th>40</th>\n",
       "      <td>includes</td>\n",
       "      <td>2.482273</td>\n",
       "    </tr>\n",
       "    <tr>\n",
       "      <th>55</th>\n",
       "      <td>monitor</td>\n",
       "      <td>2.448617</td>\n",
       "    </tr>\n",
       "    <tr>\n",
       "      <th>35</th>\n",
       "      <td>be</td>\n",
       "      <td>2.281994</td>\n",
       "    </tr>\n",
       "    <tr>\n",
       "      <th>161</th>\n",
       "      <td>care</td>\n",
       "      <td>2.184742</td>\n",
       "    </tr>\n",
       "    <tr>\n",
       "      <th>93</th>\n",
       "      <td>assigned</td>\n",
       "      <td>2.121103</td>\n",
       "    </tr>\n",
       "    <tr>\n",
       "      <th>101</th>\n",
       "      <td>compliance</td>\n",
       "      <td>2.008878</td>\n",
       "    </tr>\n",
       "    <tr>\n",
       "      <th>38</th>\n",
       "      <td>public</td>\n",
       "      <td>1.847672</td>\n",
       "    </tr>\n",
       "    <tr>\n",
       "      <th>54</th>\n",
       "      <td>employee</td>\n",
       "      <td>1.823268</td>\n",
       "    </tr>\n",
       "    <tr>\n",
       "      <th>42</th>\n",
       "      <td>is</td>\n",
       "      <td>1.769558</td>\n",
       "    </tr>\n",
       "    <tr>\n",
       "      <th>43</th>\n",
       "      <td>not</td>\n",
       "      <td>1.732867</td>\n",
       "    </tr>\n",
       "    <tr>\n",
       "      <th>18</th>\n",
       "      <td>are</td>\n",
       "      <td>1.730225</td>\n",
       "    </tr>\n",
       "    <tr>\n",
       "      <th>97</th>\n",
       "      <td>program</td>\n",
       "      <td>1.724637</td>\n",
       "    </tr>\n",
       "    <tr>\n",
       "      <th>85</th>\n",
       "      <td>such</td>\n",
       "      <td>1.663838</td>\n",
       "    </tr>\n",
       "    <tr>\n",
       "      <th>84</th>\n",
       "      <td>when</td>\n",
       "      <td>1.592738</td>\n",
       "    </tr>\n",
       "    <tr>\n",
       "      <th>121</th>\n",
       "      <td>emergency</td>\n",
       "      <td>1.552260</td>\n",
       "    </tr>\n",
       "    <tr>\n",
       "      <th>36</th>\n",
       "      <td>responsible</td>\n",
       "      <td>1.520289</td>\n",
       "    </tr>\n",
       "    <tr>\n",
       "      <th>155</th>\n",
       "      <td>inspections</td>\n",
       "      <td>1.514981</td>\n",
       "    </tr>\n",
       "    <tr>\n",
       "      <th>24</th>\n",
       "      <td>office</td>\n",
       "      <td>1.506761</td>\n",
       "    </tr>\n",
       "    <tr>\n",
       "      <th>9</th>\n",
       "      <td>of</td>\n",
       "      <td>1.487596</td>\n",
       "    </tr>\n",
       "    <tr>\n",
       "      <th>167</th>\n",
       "      <td>must</td>\n",
       "      <td>1.354418</td>\n",
       "    </tr>\n",
       "    <tr>\n",
       "      <th>103</th>\n",
       "      <td>policies</td>\n",
       "      <td>1.332327</td>\n",
       "    </tr>\n",
       "    <tr>\n",
       "      <th>61</th>\n",
       "      <td>clerical</td>\n",
       "      <td>1.330455</td>\n",
       "    </tr>\n",
       "    <tr>\n",
       "      <th>88</th>\n",
       "      <td>regulations</td>\n",
       "      <td>1.227130</td>\n",
       "    </tr>\n",
       "  </tbody>\n",
       "</table>\n",
       "</div>"
      ],
      "text/plain": [
       "            word    weight\n",
       "1           city  3.707976\n",
       "142    incumbent  2.837547\n",
       "40      includes  2.482273\n",
       "55       monitor  2.448617\n",
       "35            be  2.281994\n",
       "161         care  2.184742\n",
       "93      assigned  2.121103\n",
       "101   compliance  2.008878\n",
       "38        public  1.847672\n",
       "54      employee  1.823268\n",
       "42            is  1.769558\n",
       "43           not  1.732867\n",
       "18           are  1.730225\n",
       "97       program  1.724637\n",
       "85          such  1.663838\n",
       "84          when  1.592738\n",
       "121    emergency  1.552260\n",
       "36   responsible  1.520289\n",
       "155  inspections  1.514981\n",
       "24        office  1.506761\n",
       "9             of  1.487596\n",
       "167         must  1.354418\n",
       "103     policies  1.332327\n",
       "61      clerical  1.330455\n",
       "88   regulations  1.227130"
      ]
     },
     "execution_count": 192,
     "metadata": {},
     "output_type": "execute_result"
    }
   ],
   "source": [
    "df_weights.sort_values('weight', ascending=False)[:25]"
   ]
  },
  {
   "cell_type": "markdown",
   "metadata": {},
   "source": [
    "The word that most strongly indicates a low-demand department is *city!* This is generally telling of the way city jobs are treated in NOLA. Below that, we see even more interesting words: \"care\", \"emergency\", \"compliance\", \"clerical\", \"regulations\".\n",
    "\n",
    "Based on our experience with city data, we can confirm that clerical work seems to be given quite low priority (ha-ha)."
   ]
  },
  {
   "cell_type": "markdown",
   "metadata": {},
   "source": [
    "We can also analyze these descriptions in a different way - by the likelihood that their request will be filled (this is why we made that column earlier!). We can proceed in the same way, starting with retraining our model."
   ]
  },
  {
   "cell_type": "code",
   "execution_count": 193,
   "metadata": {
    "scrolled": false
   },
   "outputs": [],
   "source": [
    "X_train, X_test, y_train, y_test = train_test_split(tf_idf_sparse, \n",
    "                                                    req_df['s/u'], \n",
    "                                                    test_size=0.2)\n",
    "\n",
    "logisticRegr = LogisticRegression(max_iter=100000, class_weight='balanced') \n",
    "model = logisticRegr.fit(X_train, y_train)"
   ]
  },
  {
   "cell_type": "markdown",
   "metadata": {},
   "source": [
    "Checking our confusion matrix again, the model actually performs significantly worse (~23%) with this training."
   ]
  },
  {
   "cell_type": "code",
   "execution_count": 194,
   "metadata": {},
   "outputs": [
    {
     "name": "stdout",
     "output_type": "stream",
     "text": [
      "0.6825806451612904\n"
     ]
    },
    {
     "data": {
      "text/plain": [
       "<sklearn.metrics._plot.confusion_matrix.ConfusionMatrixDisplay at 0x27128e549d0>"
      ]
     },
     "execution_count": 194,
     "metadata": {},
     "output_type": "execute_result"
    },
    {
     "data": {
      "image/png": "[encoded data removed]",
      "text/plain": [
       "<Figure size 432x288 with 2 Axes>"
      ]
     },
     "metadata": {
      "needs_background": "light"
     },
     "output_type": "display_data"
    }
   ],
   "source": [
    "from sklearn.metrics import accuracy_score, plot_confusion_matrix\n",
    "import matplotlib.pyplot as plt\n",
    "y_pred = model.predict(X_test)\n",
    "print(accuracy_score(y_test, y_pred))\n",
    "plot_confusion_matrix(model, X_test, y_test,\n",
    "                                 display_labels=logisticRegr.classes_,\n",
    "                                 cmap=plt.cm.Blues, normalize='all')"
   ]
  },
  {
   "cell_type": "markdown",
   "metadata": {},
   "source": [
    "Checking our class order again, we see that unfulfilled requests give **negative** weight, where fulfilled requests give **positive** weight."
   ]
  },
  {
   "cell_type": "code",
   "execution_count": 195,
   "metadata": {
    "scrolled": true
   },
   "outputs": [
    {
     "data": {
      "text/plain": [
       "array(['not satisfied', 'satisfied'], dtype=object)"
      ]
     },
     "execution_count": 195,
     "metadata": {},
     "output_type": "execute_result"
    }
   ],
   "source": [
    "logisticRegr.classes_"
   ]
  },
  {
   "cell_type": "code",
   "execution_count": 196,
   "metadata": {},
   "outputs": [],
   "source": [
    "descs = []\n",
    "for w,i in vec.vocabulary_.items():\n",
    "    descs.append([str(w)] + list(logisticRegr.coef_[:,i]))\n",
    "df_weights = pd.DataFrame(descs, columns=['word', 'weight'])"
   ]
  },
  {
   "cell_type": "markdown",
   "metadata": {},
   "source": [
    "First, let's look at the satisfied requests."
   ]
  },
  {
   "cell_type": "code",
   "execution_count": 197,
   "metadata": {
    "scrolled": false
   },
   "outputs": [
    {
     "data": {
      "text/html": [
       "<div>\n",
       "<style scoped>\n",
       "    .dataframe tbody tr th:only-of-type {\n",
       "        vertical-align: middle;\n",
       "    }\n",
       "\n",
       "    .dataframe tbody tr th {\n",
       "        vertical-align: top;\n",
       "    }\n",
       "\n",
       "    .dataframe thead th {\n",
       "        text-align: right;\n",
       "    }\n",
       "</style>\n",
       "<table border=\"1\" class=\"dataframe\">\n",
       "  <thead>\n",
       "    <tr style=\"text-align: right;\">\n",
       "      <th></th>\n",
       "      <th>word</th>\n",
       "      <th>weight</th>\n",
       "    </tr>\n",
       "  </thead>\n",
       "  <tbody>\n",
       "    <tr>\n",
       "      <th>145</th>\n",
       "      <td>responsibility</td>\n",
       "      <td>1.988261</td>\n",
       "    </tr>\n",
       "    <tr>\n",
       "      <th>192</th>\n",
       "      <td>pool</td>\n",
       "      <td>1.953333</td>\n",
       "    </tr>\n",
       "    <tr>\n",
       "      <th>8</th>\n",
       "      <td>duties</td>\n",
       "      <td>1.659934</td>\n",
       "    </tr>\n",
       "    <tr>\n",
       "      <th>5</th>\n",
       "      <td>provide</td>\n",
       "      <td>1.465325</td>\n",
       "    </tr>\n",
       "    <tr>\n",
       "      <th>93</th>\n",
       "      <td>assigned</td>\n",
       "      <td>1.436340</td>\n",
       "    </tr>\n",
       "    <tr>\n",
       "      <th>140</th>\n",
       "      <td>tools</td>\n",
       "      <td>1.389624</td>\n",
       "    </tr>\n",
       "    <tr>\n",
       "      <th>39</th>\n",
       "      <td>which</td>\n",
       "      <td>1.362509</td>\n",
       "    </tr>\n",
       "    <tr>\n",
       "      <th>14</th>\n",
       "      <td>or</td>\n",
       "      <td>1.333057</td>\n",
       "    </tr>\n",
       "    <tr>\n",
       "      <th>74</th>\n",
       "      <td>projects</td>\n",
       "      <td>1.325217</td>\n",
       "    </tr>\n",
       "    <tr>\n",
       "      <th>122</th>\n",
       "      <td>supervisory</td>\n",
       "      <td>1.289388</td>\n",
       "    </tr>\n",
       "    <tr>\n",
       "      <th>161</th>\n",
       "      <td>care</td>\n",
       "      <td>1.243291</td>\n",
       "    </tr>\n",
       "    <tr>\n",
       "      <th>196</th>\n",
       "      <td>aquatics</td>\n",
       "      <td>1.240041</td>\n",
       "    </tr>\n",
       "    <tr>\n",
       "      <th>84</th>\n",
       "      <td>when</td>\n",
       "      <td>1.001439</td>\n",
       "    </tr>\n",
       "    <tr>\n",
       "      <th>112</th>\n",
       "      <td>project</td>\n",
       "      <td>0.993288</td>\n",
       "    </tr>\n",
       "    <tr>\n",
       "      <th>142</th>\n",
       "      <td>incumbent</td>\n",
       "      <td>0.948549</td>\n",
       "    </tr>\n",
       "    <tr>\n",
       "      <th>141</th>\n",
       "      <td>within</td>\n",
       "      <td>0.900821</td>\n",
       "    </tr>\n",
       "    <tr>\n",
       "      <th>159</th>\n",
       "      <td>enforcement</td>\n",
       "      <td>0.866434</td>\n",
       "    </tr>\n",
       "    <tr>\n",
       "      <th>3</th>\n",
       "      <td>as</td>\n",
       "      <td>0.864752</td>\n",
       "    </tr>\n",
       "    <tr>\n",
       "      <th>4</th>\n",
       "      <td>by</td>\n",
       "      <td>0.837005</td>\n",
       "    </tr>\n",
       "    <tr>\n",
       "      <th>37</th>\n",
       "      <td>related</td>\n",
       "      <td>0.818965</td>\n",
       "    </tr>\n",
       "    <tr>\n",
       "      <th>52</th>\n",
       "      <td>development</td>\n",
       "      <td>0.796430</td>\n",
       "    </tr>\n",
       "    <tr>\n",
       "      <th>174</th>\n",
       "      <td>techniques</td>\n",
       "      <td>0.784982</td>\n",
       "    </tr>\n",
       "    <tr>\n",
       "      <th>81</th>\n",
       "      <td>federal</td>\n",
       "      <td>0.775991</td>\n",
       "    </tr>\n",
       "    <tr>\n",
       "      <th>99</th>\n",
       "      <td>regarding</td>\n",
       "      <td>0.759840</td>\n",
       "    </tr>\n",
       "    <tr>\n",
       "      <th>38</th>\n",
       "      <td>public</td>\n",
       "      <td>0.735123</td>\n",
       "    </tr>\n",
       "  </tbody>\n",
       "</table>\n",
       "</div>"
      ],
      "text/plain": [
       "               word    weight\n",
       "145  responsibility  1.988261\n",
       "192            pool  1.953333\n",
       "8            duties  1.659934\n",
       "5           provide  1.465325\n",
       "93         assigned  1.436340\n",
       "140           tools  1.389624\n",
       "39            which  1.362509\n",
       "14               or  1.333057\n",
       "74         projects  1.325217\n",
       "122     supervisory  1.289388\n",
       "161            care  1.243291\n",
       "196        aquatics  1.240041\n",
       "84             when  1.001439\n",
       "112         project  0.993288\n",
       "142       incumbent  0.948549\n",
       "141          within  0.900821\n",
       "159     enforcement  0.866434\n",
       "3                as  0.864752\n",
       "4                by  0.837005\n",
       "37          related  0.818965\n",
       "52      development  0.796430\n",
       "174      techniques  0.784982\n",
       "81          federal  0.775991\n",
       "99        regarding  0.759840\n",
       "38           public  0.735123"
      ]
     },
     "execution_count": 197,
     "metadata": {},
     "output_type": "execute_result"
    }
   ],
   "source": [
    "df_weights.sort_values('weight', ascending=False)[:25]"
   ]
  },
  {
   "cell_type": "markdown",
   "metadata": {},
   "source": [
    "It is easy and usually safe to retain an employee at their current position, which explains \"Incumbent\"'s position towards the top of the list. We also see \"supervisory\", \"police\", and \"federal\" pop up often in satisfied requisition requests."
   ]
  },
  {
   "cell_type": "markdown",
   "metadata": {},
   "source": [
    "Now, the unsatisfied requests:"
   ]
  },
  {
   "cell_type": "code",
   "execution_count": 199,
   "metadata": {},
   "outputs": [
    {
     "data": {
      "text/html": [
       "<div>\n",
       "<style scoped>\n",
       "    .dataframe tbody tr th:only-of-type {\n",
       "        vertical-align: middle;\n",
       "    }\n",
       "\n",
       "    .dataframe tbody tr th {\n",
       "        vertical-align: top;\n",
       "    }\n",
       "\n",
       "    .dataframe thead th {\n",
       "        text-align: right;\n",
       "    }\n",
       "</style>\n",
       "<table border=\"1\" class=\"dataframe\">\n",
       "  <thead>\n",
       "    <tr style=\"text-align: right;\">\n",
       "      <th></th>\n",
       "      <th>word</th>\n",
       "      <th>weight</th>\n",
       "    </tr>\n",
       "  </thead>\n",
       "  <tbody>\n",
       "    <tr>\n",
       "      <th>163</th>\n",
       "      <td>water</td>\n",
       "      <td>-2.577493</td>\n",
       "    </tr>\n",
       "    <tr>\n",
       "      <th>78</th>\n",
       "      <td>maintenance</td>\n",
       "      <td>-2.388579</td>\n",
       "    </tr>\n",
       "    <tr>\n",
       "      <th>132</th>\n",
       "      <td>conducting</td>\n",
       "      <td>-1.797928</td>\n",
       "    </tr>\n",
       "    <tr>\n",
       "      <th>137</th>\n",
       "      <td>out</td>\n",
       "      <td>-1.763845</td>\n",
       "    </tr>\n",
       "    <tr>\n",
       "      <th>67</th>\n",
       "      <td>technical</td>\n",
       "      <td>-1.522819</td>\n",
       "    </tr>\n",
       "    <tr>\n",
       "      <th>82</th>\n",
       "      <td>up</td>\n",
       "      <td>-1.375403</td>\n",
       "    </tr>\n",
       "    <tr>\n",
       "      <th>134</th>\n",
       "      <td>under</td>\n",
       "      <td>-1.367847</td>\n",
       "    </tr>\n",
       "    <tr>\n",
       "      <th>156</th>\n",
       "      <td>specialized</td>\n",
       "      <td>-1.204069</td>\n",
       "    </tr>\n",
       "    <tr>\n",
       "      <th>111</th>\n",
       "      <td>include</td>\n",
       "      <td>-1.176537</td>\n",
       "    </tr>\n",
       "    <tr>\n",
       "      <th>30</th>\n",
       "      <td>service</td>\n",
       "      <td>-1.149070</td>\n",
       "    </tr>\n",
       "    <tr>\n",
       "      <th>164</th>\n",
       "      <td>able</td>\n",
       "      <td>-1.121832</td>\n",
       "    </tr>\n",
       "    <tr>\n",
       "      <th>26</th>\n",
       "      <td>community</td>\n",
       "      <td>-1.091679</td>\n",
       "    </tr>\n",
       "    <tr>\n",
       "      <th>120</th>\n",
       "      <td>safety</td>\n",
       "      <td>-1.061674</td>\n",
       "    </tr>\n",
       "    <tr>\n",
       "      <th>12</th>\n",
       "      <td>with</td>\n",
       "      <td>-1.055478</td>\n",
       "    </tr>\n",
       "    <tr>\n",
       "      <th>22</th>\n",
       "      <td>position</td>\n",
       "      <td>-1.007723</td>\n",
       "    </tr>\n",
       "    <tr>\n",
       "      <th>151</th>\n",
       "      <td>property</td>\n",
       "      <td>-0.996855</td>\n",
       "    </tr>\n",
       "    <tr>\n",
       "      <th>125</th>\n",
       "      <td>local</td>\n",
       "      <td>-0.973498</td>\n",
       "    </tr>\n",
       "    <tr>\n",
       "      <th>59</th>\n",
       "      <td>training</td>\n",
       "      <td>-0.935814</td>\n",
       "    </tr>\n",
       "    <tr>\n",
       "      <th>69</th>\n",
       "      <td>construction</td>\n",
       "      <td>-0.933579</td>\n",
       "    </tr>\n",
       "    <tr>\n",
       "      <th>91</th>\n",
       "      <td>performs</td>\n",
       "      <td>-0.926412</td>\n",
       "    </tr>\n",
       "    <tr>\n",
       "      <th>61</th>\n",
       "      <td>clerical</td>\n",
       "      <td>-0.922135</td>\n",
       "    </tr>\n",
       "    <tr>\n",
       "      <th>68</th>\n",
       "      <td>reports</td>\n",
       "      <td>-0.847577</td>\n",
       "    </tr>\n",
       "    <tr>\n",
       "      <th>86</th>\n",
       "      <td>calls</td>\n",
       "      <td>-0.840391</td>\n",
       "    </tr>\n",
       "    <tr>\n",
       "      <th>136</th>\n",
       "      <td>close</td>\n",
       "      <td>-0.830511</td>\n",
       "    </tr>\n",
       "    <tr>\n",
       "      <th>83</th>\n",
       "      <td>events</td>\n",
       "      <td>-0.817122</td>\n",
       "    </tr>\n",
       "  </tbody>\n",
       "</table>\n",
       "</div>"
      ],
      "text/plain": [
       "             word    weight\n",
       "163         water -2.577493\n",
       "78    maintenance -2.388579\n",
       "132    conducting -1.797928\n",
       "137           out -1.763845\n",
       "67      technical -1.522819\n",
       "82             up -1.375403\n",
       "134         under -1.367847\n",
       "156   specialized -1.204069\n",
       "111       include -1.176537\n",
       "30        service -1.149070\n",
       "164          able -1.121832\n",
       "26      community -1.091679\n",
       "120        safety -1.061674\n",
       "12           with -1.055478\n",
       "22       position -1.007723\n",
       "151      property -0.996855\n",
       "125         local -0.973498\n",
       "59       training -0.935814\n",
       "69   construction -0.933579\n",
       "91       performs -0.926412\n",
       "61       clerical -0.922135\n",
       "68        reports -0.847577\n",
       "86          calls -0.840391\n",
       "136         close -0.830511\n",
       "83         events -0.817122"
      ]
     },
     "execution_count": 199,
     "metadata": {},
     "output_type": "execute_result"
    }
   ],
   "source": [
    "df_weights.sort_values('weight', ascending=True)[:25]"
   ]
  },
  {
   "cell_type": "markdown",
   "metadata": {},
   "source": [
    "\"Maintenance\" is hard to come by in New Orleans. \"Technical\" and \"Specialized\" positions are also less likely to be approved, perhaps because of their often-high salary costs. We see \"clerical\" pop up again, as well as (worryingly) \"safety\"."
   ]
  },
  {
   "cell_type": "code",
   "execution_count": null,
   "metadata": {},
   "outputs": [],
   "source": []
  }
 ],
 "metadata": {
  "kernelspec": {
   "display_name": "Python 3",
   "language": "python",
   "name": "python3"
  },
  "language_info": {
   "codemirror_mode": {
    "name": "ipython",
    "version": 3
   },
   "file_extension": ".py",
   "mimetype": "text/x-python",
   "name": "python",
   "nbconvert_exporter": "python",
   "pygments_lexer": "ipython3",
   "version": "3.8.3"
  }
 },
 "nbformat": 4,
 "nbformat_minor": 4
}

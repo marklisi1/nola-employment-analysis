{
 "cells": [
  {
   "cell_type": "markdown",
   "metadata": {},
   "source": [
    "# Milestone 1\n",
    "<p> Mark Lisi<br>\n",
    "Sarper Tutuncuoglu </p>"
   ]
  },
  {
   "cell_type": "markdown",
   "metadata": {},
   "source": [
    "[GitHub.io Link](marklisi1.github.io)\n",
    "***"
   ]
  },
  {
   "cell_type": "markdown",
   "metadata": {},
   "source": [
    "Our group plans to investigate patterns in job applications and hiring in the city of New Orleans. We plan to focus predominantly on New Orleans City Service Departments in our analysis. \n",
    "\t"
   ]
  },
  {
   "cell_type": "markdown",
   "metadata": {},
   "source": [
    "The first dataset we have found describes [hiring data for city jobs in New Orleans.](https://data.nola.gov/City-Administration/City-Jobs-Hiring-Data/wx2k-rsac/data) We took this dataset from data.nola.gov. The dataset contains information about the job title/department, as well as the term length of the hire. One of the trends that we hope to further explore is a relationship between hire length and type of job. We believe that probationary hires may be unfairly exploited based on the easily terminable nature of their hiring terms. \n",
    "\t"
   ]
  },
  {
   "cell_type": "code",
   "execution_count": 2,
   "metadata": {},
   "outputs": [
    {
     "data": {
      "text/html": [
       "<div>\n",
       "<style scoped>\n",
       "    .dataframe tbody tr th:only-of-type {\n",
       "        vertical-align: middle;\n",
       "    }\n",
       "\n",
       "    .dataframe tbody tr th {\n",
       "        vertical-align: top;\n",
       "    }\n",
       "\n",
       "    .dataframe thead th {\n",
       "        text-align: right;\n",
       "    }\n",
       "</style>\n",
       "<table border=\"1\" class=\"dataframe\">\n",
       "  <thead>\n",
       "    <tr style=\"text-align: right;\">\n",
       "      <th></th>\n",
       "      <th>Start_Date</th>\n",
       "      <th>Job_Title</th>\n",
       "      <th>Department</th>\n",
       "      <th>Department_Code</th>\n",
       "      <th>Job_Term</th>\n",
       "      <th>List_Type</th>\n",
       "      <th>Req_Number</th>\n",
       "      <th>Appointment_Type</th>\n",
       "    </tr>\n",
       "  </thead>\n",
       "  <tbody>\n",
       "    <tr>\n",
       "      <th>0</th>\n",
       "      <td>01/13/2020 06:00:00 AM</td>\n",
       "      <td>OFFICE ASSISTANT, TRAINEE (CLASS CODE 0020)</td>\n",
       "      <td>Office Of Community Development</td>\n",
       "      <td>719</td>\n",
       "      <td>Probationary</td>\n",
       "      <td>Regular and Promotional</td>\n",
       "      <td>2019-02185</td>\n",
       "      <td>New Hire/Rehire</td>\n",
       "    </tr>\n",
       "    <tr>\n",
       "      <th>1</th>\n",
       "      <td>02/23/2020 12:00:00 AM</td>\n",
       "      <td>OFFICE ASSISTANT, TRAINEE (CLASS CODE 0020)</td>\n",
       "      <td>Property Management</td>\n",
       "      <td>450</td>\n",
       "      <td>Probationary</td>\n",
       "      <td>Regular and Promotional</td>\n",
       "      <td>2020-00541</td>\n",
       "      <td>New Hire/Rehire</td>\n",
       "    </tr>\n",
       "    <tr>\n",
       "      <th>2</th>\n",
       "      <td>01/19/2020 12:00:00 AM</td>\n",
       "      <td>POLICE AIDE (CLASS CODE 7105)</td>\n",
       "      <td>Police Department</td>\n",
       "      <td>270</td>\n",
       "      <td>Probationary</td>\n",
       "      <td>Regular</td>\n",
       "      <td>2020-00088</td>\n",
       "      <td>New Hire/Rehire</td>\n",
       "    </tr>\n",
       "    <tr>\n",
       "      <th>3</th>\n",
       "      <td>03/01/2020 12:00:00 AM</td>\n",
       "      <td>POLICE AIDE (CLASS CODE 7105)</td>\n",
       "      <td>Police Department</td>\n",
       "      <td>270</td>\n",
       "      <td>Provisional</td>\n",
       "      <td>Regular</td>\n",
       "      <td>2020-00628</td>\n",
       "      <td>New Hire/Rehire</td>\n",
       "    </tr>\n",
       "    <tr>\n",
       "      <th>4</th>\n",
       "      <td>03/15/2020 12:00:00 AM</td>\n",
       "      <td>POLICE AIDE (CLASS CODE 7105)</td>\n",
       "      <td>Police Department</td>\n",
       "      <td>270</td>\n",
       "      <td>Provisional</td>\n",
       "      <td>Regular</td>\n",
       "      <td>2020-00645</td>\n",
       "      <td>New Hire/Rehire</td>\n",
       "    </tr>\n",
       "  </tbody>\n",
       "</table>\n",
       "</div>"
      ],
      "text/plain": [
       "               Start_Date                                    Job_Title  \\\n",
       "0  01/13/2020 06:00:00 AM  OFFICE ASSISTANT, TRAINEE (CLASS CODE 0020)   \n",
       "1  02/23/2020 12:00:00 AM  OFFICE ASSISTANT, TRAINEE (CLASS CODE 0020)   \n",
       "2  01/19/2020 12:00:00 AM                POLICE AIDE (CLASS CODE 7105)   \n",
       "3  03/01/2020 12:00:00 AM                POLICE AIDE (CLASS CODE 7105)   \n",
       "4  03/15/2020 12:00:00 AM                POLICE AIDE (CLASS CODE 7105)   \n",
       "\n",
       "                        Department Department_Code      Job_Term  \\\n",
       "0  Office Of Community Development             719  Probationary   \n",
       "1              Property Management             450  Probationary   \n",
       "2                Police Department             270  Probationary   \n",
       "3                Police Department             270   Provisional   \n",
       "4                Police Department             270   Provisional   \n",
       "\n",
       "                 List_Type  Req_Number Appointment_Type  \n",
       "0  Regular and Promotional  2019-02185  New Hire/Rehire  \n",
       "1  Regular and Promotional  2020-00541  New Hire/Rehire  \n",
       "2                  Regular  2020-00088  New Hire/Rehire  \n",
       "3                  Regular  2020-00628  New Hire/Rehire  \n",
       "4                  Regular  2020-00645  New Hire/Rehire  "
      ]
     },
     "execution_count": 2,
     "metadata": {},
     "output_type": "execute_result"
    }
   ],
   "source": [
    "import pandas as pd\n",
    "\n",
    "hiring_df = pd.read_csv(\"./data/City_Jobs_Hiring_Data.csv\")\n",
    "hiring_df.head()\n"
   ]
  },
  {
   "cell_type": "markdown",
   "metadata": {},
   "source": [
    "Luckily, most of the data on data.nola.gov is already tidy. We can also observe that our only numerical variable, Start_Date, has a value in every entry. "
   ]
  },
  {
   "cell_type": "code",
   "execution_count": 3,
   "metadata": {},
   "outputs": [
    {
     "data": {
      "text/html": [
       "<div>\n",
       "<style scoped>\n",
       "    .dataframe tbody tr th:only-of-type {\n",
       "        vertical-align: middle;\n",
       "    }\n",
       "\n",
       "    .dataframe tbody tr th {\n",
       "        vertical-align: top;\n",
       "    }\n",
       "\n",
       "    .dataframe thead th {\n",
       "        text-align: right;\n",
       "    }\n",
       "</style>\n",
       "<table border=\"1\" class=\"dataframe\">\n",
       "  <thead>\n",
       "    <tr style=\"text-align: right;\">\n",
       "      <th></th>\n",
       "      <th>Start_Date</th>\n",
       "      <th>Job_Title</th>\n",
       "      <th>Department</th>\n",
       "      <th>Department_Code</th>\n",
       "      <th>Job_Term</th>\n",
       "      <th>List_Type</th>\n",
       "      <th>Req_Number</th>\n",
       "      <th>Appointment_Type</th>\n",
       "    </tr>\n",
       "  </thead>\n",
       "  <tbody>\n",
       "  </tbody>\n",
       "</table>\n",
       "</div>"
      ],
      "text/plain": [
       "Empty DataFrame\n",
       "Columns: [Start_Date, Job_Title, Department, Department_Code, Job_Term, List_Type, Req_Number, Appointment_Type]\n",
       "Index: []"
      ]
     },
     "execution_count": 3,
     "metadata": {},
     "output_type": "execute_result"
    }
   ],
   "source": [
    "hiring_df[hiring_df[\"Start_Date\"].isnull()]"
   ]
  },
  {
   "cell_type": "markdown",
   "metadata": {},
   "source": [
    "Because of this, we do not need to worry about NaNs. However, this dataset does have a few limitations. Firstly, it is not very large - if we hope to draw any widely applicable conclusions, we will need to find a bigger source of data. However, we believe that the trends which emerge in this dataset will help point us in the right direction for the rest of our project. Additionally, it lacks some demographic statistics that might generate more powerful conclusions - the pay of each job, the race and gender of the applicant, etc. We hope to gain insight on these topics by crossreferencing this dataset with others - potentially IRS/FRED data.\n",
    "\t"
   ]
  },
  {
   "cell_type": "markdown",
   "metadata": {},
   "source": [
    "Another dataset we are considering working with is [city job applications.](https://data.nola.gov/City-Administration/City-Job-Applications-Submitted/ewwx-j8eu/data)"
   ]
  },
  {
   "cell_type": "code",
   "execution_count": 4,
   "metadata": {},
   "outputs": [
    {
     "data": {
      "text/html": [
       "<div>\n",
       "<style scoped>\n",
       "    .dataframe tbody tr th:only-of-type {\n",
       "        vertical-align: middle;\n",
       "    }\n",
       "\n",
       "    .dataframe tbody tr th {\n",
       "        vertical-align: top;\n",
       "    }\n",
       "\n",
       "    .dataframe thead th {\n",
       "        text-align: right;\n",
       "    }\n",
       "</style>\n",
       "<table border=\"1\" class=\"dataframe\">\n",
       "  <thead>\n",
       "    <tr style=\"text-align: right;\">\n",
       "      <th></th>\n",
       "      <th>City Job Title</th>\n",
       "      <th>Application Date</th>\n",
       "    </tr>\n",
       "  </thead>\n",
       "  <tbody>\n",
       "    <tr>\n",
       "      <th>0</th>\n",
       "      <td>311 TELECOMMUNICATIONS OPERATOR (CLASS CODE 7401)</td>\n",
       "      <td>02/16/2018 12:00:00 AM</td>\n",
       "    </tr>\n",
       "    <tr>\n",
       "      <th>1</th>\n",
       "      <td>311 TELECOMMUNICATIONS OPERATOR (CLASS CODE 7401)</td>\n",
       "      <td>02/16/2018 12:00:00 AM</td>\n",
       "    </tr>\n",
       "    <tr>\n",
       "      <th>2</th>\n",
       "      <td>311 TELECOMMUNICATIONS OPERATOR (CLASS CODE 7401)</td>\n",
       "      <td>02/16/2018 12:00:00 AM</td>\n",
       "    </tr>\n",
       "    <tr>\n",
       "      <th>3</th>\n",
       "      <td>311 TELECOMMUNICATIONS OPERATOR (CLASS CODE 7401)</td>\n",
       "      <td>02/16/2018 12:00:00 AM</td>\n",
       "    </tr>\n",
       "    <tr>\n",
       "      <th>4</th>\n",
       "      <td>311 TELECOMMUNICATIONS OPERATOR (CLASS CODE 7401)</td>\n",
       "      <td>02/16/2018 12:00:00 AM</td>\n",
       "    </tr>\n",
       "  </tbody>\n",
       "</table>\n",
       "</div>"
      ],
      "text/plain": [
       "                                      City Job Title        Application Date\n",
       "0  311 TELECOMMUNICATIONS OPERATOR (CLASS CODE 7401)  02/16/2018 12:00:00 AM\n",
       "1  311 TELECOMMUNICATIONS OPERATOR (CLASS CODE 7401)  02/16/2018 12:00:00 AM\n",
       "2  311 TELECOMMUNICATIONS OPERATOR (CLASS CODE 7401)  02/16/2018 12:00:00 AM\n",
       "3  311 TELECOMMUNICATIONS OPERATOR (CLASS CODE 7401)  02/16/2018 12:00:00 AM\n",
       "4  311 TELECOMMUNICATIONS OPERATOR (CLASS CODE 7401)  02/16/2018 12:00:00 AM"
      ]
     },
     "execution_count": 4,
     "metadata": {},
     "output_type": "execute_result"
    }
   ],
   "source": [
    "application_df = pd.read_csv(\"./data/City_Job_Applications_Submitted.csv\")\n",
    "application_df.head()"
   ]
  },
  {
   "cell_type": "markdown",
   "metadata": {},
   "source": [
    " This dataset doesn’t give us much - simply the title of the job applied for and the time of application - but it is considerably larger than the first dataset. We can at least determine which jobs are most frequently applied to at different times of year using this dataset.\n",
    "\t"
   ]
  },
  {
   "cell_type": "markdown",
   "metadata": {},
   "source": [
    "For our collaboration plan, we are primarily using a combination of Github and Zoom meetings. We both have experience using Github to coordinate code in group projects, so we should be able to maintain an organized work environment. We have been meeting over Zoom on Sundays to touch base about work scheduling, but we are both able to have relatively flexible meeting patterns as the semester progresses."
   ]
  },
  {
   "cell_type": "code",
   "execution_count": 15,
   "metadata": {},
   "outputs": [
    {
     "data": {
      "text/plain": [
       "<matplotlib.axes._subplots.AxesSubplot at 0x208b0819b80>"
      ]
     },
     "execution_count": 15,
     "metadata": {},
     "output_type": "execute_result"
    },
    {
     "data": {
      "image/png": "[encoded data removed]",
      "text/plain": [
       "<Figure size 432x288 with 1 Axes>"
      ]
     },
     "metadata": {},
     "output_type": "display_data"
    }
   ],
   "source": [
    "req_df = pd.read_csv(\"./data/City_Jobs_Requisition_Requests.csv\")\n",
    "req_df['Req_Status'].value_counts().plot.pie()"
   ]
  },
  {
   "cell_type": "code",
   "execution_count": null,
   "metadata": {},
   "outputs": [],
   "source": []
  }
 ],
 "metadata": {
  "kernelspec": {
   "display_name": "Python 3",
   "language": "python",
   "name": "python3"
  },
  "language_info": {
   "codemirror_mode": {
    "name": "ipython",
    "version": 3
   },
   "file_extension": ".py",
   "mimetype": "text/x-python",
   "name": "python",
   "nbconvert_exporter": "python",
   "pygments_lexer": "ipython3",
   "version": "3.8.3"
  }
 },
 "nbformat": 4,
 "nbformat_minor": 4
}
